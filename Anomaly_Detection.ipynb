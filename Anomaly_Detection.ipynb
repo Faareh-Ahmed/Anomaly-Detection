{
  "nbformat": 4,
  "nbformat_minor": 0,
  "metadata": {
    "colab": {
      "provenance": [],
      "authorship_tag": "ABX9TyPy3QSUMqZAMgaX3UOYuIxp",
      "include_colab_link": true
    },
    "kernelspec": {
      "name": "python3",
      "display_name": "Python 3"
    },
    "language_info": {
      "name": "python"
    }
  },
  "cells": [
    {
      "cell_type": "markdown",
      "metadata": {
        "id": "view-in-github",
        "colab_type": "text"
      },
      "source": [
        "<a href=\"https://colab.research.google.com/github/Faareh-Ahmed/Anomaly-Detection/blob/main/Anomaly_Detection.ipynb\" target=\"_parent\"><img src=\"https://colab.research.google.com/assets/colab-badge.svg\" alt=\"Open In Colab\"/></a>"
      ]
    },
    {
      "cell_type": "code",
      "execution_count": null,
      "metadata": {
        "id": "PWbsr_58-NQ_"
      },
      "outputs": [],
      "source": []
    },
    {
      "cell_type": "code",
      "source": [
        "import pandas as pd\n",
        "import numpy as np\n",
        "import seaborn as ssn\n",
        "import matplotlib.pyplot as plt"
      ],
      "metadata": {
        "id": "EO-1sFk8-_St"
      },
      "execution_count": 1,
      "outputs": []
    },
    {
      "cell_type": "code",
      "source": [
        "df2= pd.read_csv('/content/part-00016-363d1ba3-8ab5-4f96-bc25-4d5862db7cb9-c000.csv',error_bad_lines=False)"
      ],
      "metadata": {
        "id": "8T4XQcSSDdpq"
      },
      "execution_count": null,
      "outputs": []
    },
    {
      "cell_type": "code",
      "source": [
        "df2.info()"
      ],
      "metadata": {
        "id": "T_wHihnjD6Ek"
      },
      "execution_count": null,
      "outputs": []
    },
    {
      "cell_type": "code",
      "source": [
        "df3=pd.read_csv('/content/part-00113-363d1ba3-8ab5-4f96-bc25-4d5862db7cb9-c000.csv', error_bad_lines=False)"
      ],
      "metadata": {
        "id": "2WVyORp-Mcxz"
      },
      "execution_count": null,
      "outputs": []
    },
    {
      "cell_type": "code",
      "source": [
        "df3.info()"
      ],
      "metadata": {
        "id": "pZdECChUMt_w"
      },
      "execution_count": null,
      "outputs": []
    },
    {
      "cell_type": "code",
      "source": [
        "df4=pd.read_csv('/content/part-00125-363d1ba3-8ab5-4f96-bc25-4d5862db7cb9-c000.csv', error_bad_lines=False)"
      ],
      "metadata": {
        "id": "W-t7LfbBNmEE"
      },
      "execution_count": null,
      "outputs": []
    },
    {
      "cell_type": "code",
      "source": [
        "df4.info()"
      ],
      "metadata": {
        "id": "dLnmZ_z2Nrab"
      },
      "execution_count": null,
      "outputs": []
    },
    {
      "cell_type": "code",
      "source": [
        "df5=pd.read_csv('/content/part-00098-363d1ba3-8ab5-4f96-bc25-4d5862db7cb9-c000.csv', error_bad_lines=False)"
      ],
      "metadata": {
        "id": "2gcHbS8iNyL9"
      },
      "execution_count": null,
      "outputs": []
    },
    {
      "cell_type": "code",
      "source": [
        "df5.info()"
      ],
      "metadata": {
        "id": "H41_9WmqOBUH"
      },
      "execution_count": null,
      "outputs": []
    },
    {
      "cell_type": "code",
      "source": [
        "df6=pd.read_csv('/content/part-00165-363d1ba3-8ab5-4f96-bc25-4d5862db7cb9-c000.csv', error_bad_lines=False)"
      ],
      "metadata": {
        "id": "0pzxhpZSPMBO"
      },
      "execution_count": null,
      "outputs": []
    },
    {
      "cell_type": "code",
      "source": [
        "df6.info()"
      ],
      "metadata": {
        "id": "b1E1ZAtkPTaI"
      },
      "execution_count": null,
      "outputs": []
    },
    {
      "cell_type": "code",
      "source": [
        "df7=pd.read_csv('/content/part-00111-363d1ba3-8ab5-4f96-bc25-4d5862db7cb9-c000.csv', error_bad_lines=False)"
      ],
      "metadata": {
        "id": "pYpc1QEUPZvb"
      },
      "execution_count": null,
      "outputs": []
    },
    {
      "cell_type": "code",
      "source": [
        "df7.info()"
      ],
      "metadata": {
        "id": "w2whPwGfPuMe"
      },
      "execution_count": null,
      "outputs": []
    },
    {
      "cell_type": "code",
      "source": [
        "df8=pd.read_csv('/content/part-00152-363d1ba3-8ab5-4f96-bc25-4d5862db7cb9-c000.csv', error_bad_lines=False)"
      ],
      "metadata": {
        "id": "DZuIcVcoP7A9"
      },
      "execution_count": null,
      "outputs": []
    },
    {
      "cell_type": "code",
      "source": [
        "df8.info()"
      ],
      "metadata": {
        "id": "k8NvQcHRP_hN"
      },
      "execution_count": null,
      "outputs": []
    },
    {
      "cell_type": "code",
      "source": [
        "df9=pd.read_csv('/content/part-00062-363d1ba3-8ab5-4f96-bc25-4d5862db7cb9-c000.csv', error_bad_lines=False)"
      ],
      "metadata": {
        "id": "x3gugvqcQAru"
      },
      "execution_count": null,
      "outputs": []
    },
    {
      "cell_type": "code",
      "source": [
        "df9.info()"
      ],
      "metadata": {
        "id": "-DMJAq7uQRfD"
      },
      "execution_count": null,
      "outputs": []
    },
    {
      "cell_type": "code",
      "source": [
        "df10=pd.read_csv('/content/part-00095-363d1ba3-8ab5-4f96-bc25-4d5862db7cb9-c000.csv', error_bad_lines=False)"
      ],
      "metadata": {
        "id": "lX3YYSV8QTKP"
      },
      "execution_count": null,
      "outputs": []
    },
    {
      "cell_type": "code",
      "source": [
        "df10.info()"
      ],
      "metadata": {
        "id": "DE_CsVNvQdWZ"
      },
      "execution_count": null,
      "outputs": []
    },
    {
      "cell_type": "markdown",
      "source": [
        "# Combining the Data set"
      ],
      "metadata": {
        "id": "3tBeghZRRF1y"
      }
    },
    {
      "cell_type": "code",
      "source": [
        "df = pd.concat([df2, df3, df4, df5, df6, df7, df8, df9, df10], ignore_index=True)"
      ],
      "metadata": {
        "id": "aYhjPxidQe76"
      },
      "execution_count": 31,
      "outputs": []
    },
    {
      "cell_type": "code",
      "source": [
        "df.info()"
      ],
      "metadata": {
        "colab": {
          "base_uri": "https://localhost:8080/"
        },
        "id": "7Nd6QPPyQxcb",
        "outputId": "8729dddf-8a39-4918-8e53-79fd8f492b4f"
      },
      "execution_count": 33,
      "outputs": [
        {
          "output_type": "stream",
          "name": "stdout",
          "text": [
            "<class 'pandas.core.frame.DataFrame'>\n",
            "RangeIndex: 160226 entries, 0 to 160225\n",
            "Data columns (total 47 columns):\n",
            " #   Column           Non-Null Count   Dtype  \n",
            "---  ------           --------------   -----  \n",
            " 0   flow_duration    160226 non-null  float64\n",
            " 1   Header_Length    160226 non-null  float64\n",
            " 2   Protocol Type    160226 non-null  float64\n",
            " 3   Duration         160225 non-null  float64\n",
            " 4   Rate             160225 non-null  float64\n",
            " 5   Srate            160225 non-null  float64\n",
            " 6   Drate            160225 non-null  float64\n",
            " 7   fin_flag_number  160224 non-null  float64\n",
            " 8   syn_flag_number  160224 non-null  float64\n",
            " 9   rst_flag_number  160224 non-null  float64\n",
            " 10  psh_flag_number  160224 non-null  float64\n",
            " 11  ack_flag_number  160224 non-null  float64\n",
            " 12  ece_flag_number  160224 non-null  float64\n",
            " 13  cwr_flag_number  160224 non-null  float64\n",
            " 14  ack_count        160224 non-null  float64\n",
            " 15  syn_count        160224 non-null  float64\n",
            " 16  fin_count        160224 non-null  float64\n",
            " 17  urg_count        160222 non-null  float64\n",
            " 18  rst_count        160222 non-null  float64\n",
            " 19  HTTP             160222 non-null  float64\n",
            " 20  HTTPS            160222 non-null  float64\n",
            " 21  DNS              160221 non-null  float64\n",
            " 22  Telnet           160221 non-null  float64\n",
            " 23  SMTP             160221 non-null  float64\n",
            " 24  SSH              160221 non-null  float64\n",
            " 25  IRC              160221 non-null  float64\n",
            " 26  TCP              160221 non-null  float64\n",
            " 27  UDP              160221 non-null  float64\n",
            " 28  DHCP             160221 non-null  float64\n",
            " 29  ARP              160221 non-null  float64\n",
            " 30  ICMP             160221 non-null  float64\n",
            " 31  IPv              160221 non-null  float64\n",
            " 32  LLC              160221 non-null  float64\n",
            " 33  Tot sum          160220 non-null  float64\n",
            " 34  Min              160220 non-null  float64\n",
            " 35  Max              160220 non-null  float64\n",
            " 36  AVG              160220 non-null  float64\n",
            " 37  Std              160220 non-null  float64\n",
            " 38  Tot size         160220 non-null  float64\n",
            " 39  IAT              160220 non-null  float64\n",
            " 40  Number           160220 non-null  float64\n",
            " 41  Magnitue         160220 non-null  float64\n",
            " 42  Radius           160219 non-null  float64\n",
            " 43  Covariance       160219 non-null  float64\n",
            " 44  Variance         160219 non-null  float64\n",
            " 45  Weight           160219 non-null  float64\n",
            " 46  label            160219 non-null  object \n",
            "dtypes: float64(46), object(1)\n",
            "memory usage: 57.5+ MB\n"
          ]
        }
      ]
    },
    {
      "cell_type": "code",
      "source": [
        "df.head()"
      ],
      "metadata": {
        "colab": {
          "base_uri": "https://localhost:8080/",
          "height": 290
        },
        "id": "xIHMQLGdRfsC",
        "outputId": "610ecda0-449d-4184-b98d-881aaf710966"
      },
      "execution_count": 35,
      "outputs": [
        {
          "output_type": "execute_result",
          "data": {
            "text/plain": [
              "   flow_duration  Header_Length  Protocol Type  Duration          Rate  \\\n",
              "0       5.320533        4716.20           8.20     103.0     14.294840   \n",
              "1       0.000000           0.00           1.00      64.0      6.736113   \n",
              "2       1.061175      556136.49          16.78      65.3    355.446757   \n",
              "3       0.017864        8023.00          17.00      64.0  10507.465542   \n",
              "4       0.000000           0.00          47.00      64.0   1563.871738   \n",
              "\n",
              "          Srate  Drate  fin_flag_number  syn_flag_number  rst_flag_number  \\\n",
              "0     14.294840    0.0              0.0              0.0              0.0   \n",
              "1      6.736113    0.0              0.0              0.0              0.0   \n",
              "2    355.446757    0.0              0.0              0.0              0.0   \n",
              "3  10507.465542    0.0              0.0              0.0              0.0   \n",
              "4   1563.871738    0.0              0.0              0.0              0.0   \n",
              "\n",
              "   ...         Std  Tot size           IAT  Number   Magnitue      Radius  \\\n",
              "0  ...   48.470797    104.70  1.110070e-02     5.5  14.709783   68.548059   \n",
              "1  ...    0.000000     42.00  8.314981e+07     9.5   9.165151    0.000000   \n",
              "2  ...  551.484285    889.81  8.337046e+07     9.5  40.049509  779.548009   \n",
              "3  ...    0.000000     50.00  8.309863e+07     9.5  10.000000    0.000000   \n",
              "4  ...    0.000000    578.00  8.358611e+07     9.5  34.000000    0.000000   \n",
              "\n",
              "      Covariance  Variance  Weight                   label  \n",
              "0    2798.523417      0.90   38.50           BenignTraffic  \n",
              "1       0.000000      0.00  141.55         DDoS-ICMP_Flood  \n",
              "2  322614.566658      0.95  141.55  DDoS-UDP_Fragmentation  \n",
              "3       0.000000      0.00  141.55          DDoS-UDP_Flood  \n",
              "4       0.000000      0.00  141.55       Mirai-greip_flood  \n",
              "\n",
              "[5 rows x 47 columns]"
            ],
            "text/html": [
              "\n",
              "  <div id=\"df-355388ce-27aa-411c-b02f-0422f18cd8be\" class=\"colab-df-container\">\n",
              "    <div>\n",
              "<style scoped>\n",
              "    .dataframe tbody tr th:only-of-type {\n",
              "        vertical-align: middle;\n",
              "    }\n",
              "\n",
              "    .dataframe tbody tr th {\n",
              "        vertical-align: top;\n",
              "    }\n",
              "\n",
              "    .dataframe thead th {\n",
              "        text-align: right;\n",
              "    }\n",
              "</style>\n",
              "<table border=\"1\" class=\"dataframe\">\n",
              "  <thead>\n",
              "    <tr style=\"text-align: right;\">\n",
              "      <th></th>\n",
              "      <th>flow_duration</th>\n",
              "      <th>Header_Length</th>\n",
              "      <th>Protocol Type</th>\n",
              "      <th>Duration</th>\n",
              "      <th>Rate</th>\n",
              "      <th>Srate</th>\n",
              "      <th>Drate</th>\n",
              "      <th>fin_flag_number</th>\n",
              "      <th>syn_flag_number</th>\n",
              "      <th>rst_flag_number</th>\n",
              "      <th>...</th>\n",
              "      <th>Std</th>\n",
              "      <th>Tot size</th>\n",
              "      <th>IAT</th>\n",
              "      <th>Number</th>\n",
              "      <th>Magnitue</th>\n",
              "      <th>Radius</th>\n",
              "      <th>Covariance</th>\n",
              "      <th>Variance</th>\n",
              "      <th>Weight</th>\n",
              "      <th>label</th>\n",
              "    </tr>\n",
              "  </thead>\n",
              "  <tbody>\n",
              "    <tr>\n",
              "      <th>0</th>\n",
              "      <td>5.320533</td>\n",
              "      <td>4716.20</td>\n",
              "      <td>8.20</td>\n",
              "      <td>103.0</td>\n",
              "      <td>14.294840</td>\n",
              "      <td>14.294840</td>\n",
              "      <td>0.0</td>\n",
              "      <td>0.0</td>\n",
              "      <td>0.0</td>\n",
              "      <td>0.0</td>\n",
              "      <td>...</td>\n",
              "      <td>48.470797</td>\n",
              "      <td>104.70</td>\n",
              "      <td>1.110070e-02</td>\n",
              "      <td>5.5</td>\n",
              "      <td>14.709783</td>\n",
              "      <td>68.548059</td>\n",
              "      <td>2798.523417</td>\n",
              "      <td>0.90</td>\n",
              "      <td>38.50</td>\n",
              "      <td>BenignTraffic</td>\n",
              "    </tr>\n",
              "    <tr>\n",
              "      <th>1</th>\n",
              "      <td>0.000000</td>\n",
              "      <td>0.00</td>\n",
              "      <td>1.00</td>\n",
              "      <td>64.0</td>\n",
              "      <td>6.736113</td>\n",
              "      <td>6.736113</td>\n",
              "      <td>0.0</td>\n",
              "      <td>0.0</td>\n",
              "      <td>0.0</td>\n",
              "      <td>0.0</td>\n",
              "      <td>...</td>\n",
              "      <td>0.000000</td>\n",
              "      <td>42.00</td>\n",
              "      <td>8.314981e+07</td>\n",
              "      <td>9.5</td>\n",
              "      <td>9.165151</td>\n",
              "      <td>0.000000</td>\n",
              "      <td>0.000000</td>\n",
              "      <td>0.00</td>\n",
              "      <td>141.55</td>\n",
              "      <td>DDoS-ICMP_Flood</td>\n",
              "    </tr>\n",
              "    <tr>\n",
              "      <th>2</th>\n",
              "      <td>1.061175</td>\n",
              "      <td>556136.49</td>\n",
              "      <td>16.78</td>\n",
              "      <td>65.3</td>\n",
              "      <td>355.446757</td>\n",
              "      <td>355.446757</td>\n",
              "      <td>0.0</td>\n",
              "      <td>0.0</td>\n",
              "      <td>0.0</td>\n",
              "      <td>0.0</td>\n",
              "      <td>...</td>\n",
              "      <td>551.484285</td>\n",
              "      <td>889.81</td>\n",
              "      <td>8.337046e+07</td>\n",
              "      <td>9.5</td>\n",
              "      <td>40.049509</td>\n",
              "      <td>779.548009</td>\n",
              "      <td>322614.566658</td>\n",
              "      <td>0.95</td>\n",
              "      <td>141.55</td>\n",
              "      <td>DDoS-UDP_Fragmentation</td>\n",
              "    </tr>\n",
              "    <tr>\n",
              "      <th>3</th>\n",
              "      <td>0.017864</td>\n",
              "      <td>8023.00</td>\n",
              "      <td>17.00</td>\n",
              "      <td>64.0</td>\n",
              "      <td>10507.465542</td>\n",
              "      <td>10507.465542</td>\n",
              "      <td>0.0</td>\n",
              "      <td>0.0</td>\n",
              "      <td>0.0</td>\n",
              "      <td>0.0</td>\n",
              "      <td>...</td>\n",
              "      <td>0.000000</td>\n",
              "      <td>50.00</td>\n",
              "      <td>8.309863e+07</td>\n",
              "      <td>9.5</td>\n",
              "      <td>10.000000</td>\n",
              "      <td>0.000000</td>\n",
              "      <td>0.000000</td>\n",
              "      <td>0.00</td>\n",
              "      <td>141.55</td>\n",
              "      <td>DDoS-UDP_Flood</td>\n",
              "    </tr>\n",
              "    <tr>\n",
              "      <th>4</th>\n",
              "      <td>0.000000</td>\n",
              "      <td>0.00</td>\n",
              "      <td>47.00</td>\n",
              "      <td>64.0</td>\n",
              "      <td>1563.871738</td>\n",
              "      <td>1563.871738</td>\n",
              "      <td>0.0</td>\n",
              "      <td>0.0</td>\n",
              "      <td>0.0</td>\n",
              "      <td>0.0</td>\n",
              "      <td>...</td>\n",
              "      <td>0.000000</td>\n",
              "      <td>578.00</td>\n",
              "      <td>8.358611e+07</td>\n",
              "      <td>9.5</td>\n",
              "      <td>34.000000</td>\n",
              "      <td>0.000000</td>\n",
              "      <td>0.000000</td>\n",
              "      <td>0.00</td>\n",
              "      <td>141.55</td>\n",
              "      <td>Mirai-greip_flood</td>\n",
              "    </tr>\n",
              "  </tbody>\n",
              "</table>\n",
              "<p>5 rows × 47 columns</p>\n",
              "</div>\n",
              "    <div class=\"colab-df-buttons\">\n",
              "\n",
              "  <div class=\"colab-df-container\">\n",
              "    <button class=\"colab-df-convert\" onclick=\"convertToInteractive('df-355388ce-27aa-411c-b02f-0422f18cd8be')\"\n",
              "            title=\"Convert this dataframe to an interactive table.\"\n",
              "            style=\"display:none;\">\n",
              "\n",
              "  <svg xmlns=\"http://www.w3.org/2000/svg\" height=\"24px\" viewBox=\"0 -960 960 960\">\n",
              "    <path d=\"M120-120v-720h720v720H120Zm60-500h600v-160H180v160Zm220 220h160v-160H400v160Zm0 220h160v-160H400v160ZM180-400h160v-160H180v160Zm440 0h160v-160H620v160ZM180-180h160v-160H180v160Zm440 0h160v-160H620v160Z\"/>\n",
              "  </svg>\n",
              "    </button>\n",
              "\n",
              "  <style>\n",
              "    .colab-df-container {\n",
              "      display:flex;\n",
              "      gap: 12px;\n",
              "    }\n",
              "\n",
              "    .colab-df-convert {\n",
              "      background-color: #E8F0FE;\n",
              "      border: none;\n",
              "      border-radius: 50%;\n",
              "      cursor: pointer;\n",
              "      display: none;\n",
              "      fill: #1967D2;\n",
              "      height: 32px;\n",
              "      padding: 0 0 0 0;\n",
              "      width: 32px;\n",
              "    }\n",
              "\n",
              "    .colab-df-convert:hover {\n",
              "      background-color: #E2EBFA;\n",
              "      box-shadow: 0px 1px 2px rgba(60, 64, 67, 0.3), 0px 1px 3px 1px rgba(60, 64, 67, 0.15);\n",
              "      fill: #174EA6;\n",
              "    }\n",
              "\n",
              "    .colab-df-buttons div {\n",
              "      margin-bottom: 4px;\n",
              "    }\n",
              "\n",
              "    [theme=dark] .colab-df-convert {\n",
              "      background-color: #3B4455;\n",
              "      fill: #D2E3FC;\n",
              "    }\n",
              "\n",
              "    [theme=dark] .colab-df-convert:hover {\n",
              "      background-color: #434B5C;\n",
              "      box-shadow: 0px 1px 3px 1px rgba(0, 0, 0, 0.15);\n",
              "      filter: drop-shadow(0px 1px 2px rgba(0, 0, 0, 0.3));\n",
              "      fill: #FFFFFF;\n",
              "    }\n",
              "  </style>\n",
              "\n",
              "    <script>\n",
              "      const buttonEl =\n",
              "        document.querySelector('#df-355388ce-27aa-411c-b02f-0422f18cd8be button.colab-df-convert');\n",
              "      buttonEl.style.display =\n",
              "        google.colab.kernel.accessAllowed ? 'block' : 'none';\n",
              "\n",
              "      async function convertToInteractive(key) {\n",
              "        const element = document.querySelector('#df-355388ce-27aa-411c-b02f-0422f18cd8be');\n",
              "        const dataTable =\n",
              "          await google.colab.kernel.invokeFunction('convertToInteractive',\n",
              "                                                    [key], {});\n",
              "        if (!dataTable) return;\n",
              "\n",
              "        const docLinkHtml = 'Like what you see? Visit the ' +\n",
              "          '<a target=\"_blank\" href=https://colab.research.google.com/notebooks/data_table.ipynb>data table notebook</a>'\n",
              "          + ' to learn more about interactive tables.';\n",
              "        element.innerHTML = '';\n",
              "        dataTable['output_type'] = 'display_data';\n",
              "        await google.colab.output.renderOutput(dataTable, element);\n",
              "        const docLink = document.createElement('div');\n",
              "        docLink.innerHTML = docLinkHtml;\n",
              "        element.appendChild(docLink);\n",
              "      }\n",
              "    </script>\n",
              "  </div>\n",
              "\n",
              "\n",
              "<div id=\"df-8dd7bd9e-e534-4516-bd57-cc8bbc54aa37\">\n",
              "  <button class=\"colab-df-quickchart\" onclick=\"quickchart('df-8dd7bd9e-e534-4516-bd57-cc8bbc54aa37')\"\n",
              "            title=\"Suggest charts\"\n",
              "            style=\"display:none;\">\n",
              "\n",
              "<svg xmlns=\"http://www.w3.org/2000/svg\" height=\"24px\"viewBox=\"0 0 24 24\"\n",
              "     width=\"24px\">\n",
              "    <g>\n",
              "        <path d=\"M19 3H5c-1.1 0-2 .9-2 2v14c0 1.1.9 2 2 2h14c1.1 0 2-.9 2-2V5c0-1.1-.9-2-2-2zM9 17H7v-7h2v7zm4 0h-2V7h2v10zm4 0h-2v-4h2v4z\"/>\n",
              "    </g>\n",
              "</svg>\n",
              "  </button>\n",
              "\n",
              "<style>\n",
              "  .colab-df-quickchart {\n",
              "      --bg-color: #E8F0FE;\n",
              "      --fill-color: #1967D2;\n",
              "      --hover-bg-color: #E2EBFA;\n",
              "      --hover-fill-color: #174EA6;\n",
              "      --disabled-fill-color: #AAA;\n",
              "      --disabled-bg-color: #DDD;\n",
              "  }\n",
              "\n",
              "  [theme=dark] .colab-df-quickchart {\n",
              "      --bg-color: #3B4455;\n",
              "      --fill-color: #D2E3FC;\n",
              "      --hover-bg-color: #434B5C;\n",
              "      --hover-fill-color: #FFFFFF;\n",
              "      --disabled-bg-color: #3B4455;\n",
              "      --disabled-fill-color: #666;\n",
              "  }\n",
              "\n",
              "  .colab-df-quickchart {\n",
              "    background-color: var(--bg-color);\n",
              "    border: none;\n",
              "    border-radius: 50%;\n",
              "    cursor: pointer;\n",
              "    display: none;\n",
              "    fill: var(--fill-color);\n",
              "    height: 32px;\n",
              "    padding: 0;\n",
              "    width: 32px;\n",
              "  }\n",
              "\n",
              "  .colab-df-quickchart:hover {\n",
              "    background-color: var(--hover-bg-color);\n",
              "    box-shadow: 0 1px 2px rgba(60, 64, 67, 0.3), 0 1px 3px 1px rgba(60, 64, 67, 0.15);\n",
              "    fill: var(--button-hover-fill-color);\n",
              "  }\n",
              "\n",
              "  .colab-df-quickchart-complete:disabled,\n",
              "  .colab-df-quickchart-complete:disabled:hover {\n",
              "    background-color: var(--disabled-bg-color);\n",
              "    fill: var(--disabled-fill-color);\n",
              "    box-shadow: none;\n",
              "  }\n",
              "\n",
              "  .colab-df-spinner {\n",
              "    border: 2px solid var(--fill-color);\n",
              "    border-color: transparent;\n",
              "    border-bottom-color: var(--fill-color);\n",
              "    animation:\n",
              "      spin 1s steps(1) infinite;\n",
              "  }\n",
              "\n",
              "  @keyframes spin {\n",
              "    0% {\n",
              "      border-color: transparent;\n",
              "      border-bottom-color: var(--fill-color);\n",
              "      border-left-color: var(--fill-color);\n",
              "    }\n",
              "    20% {\n",
              "      border-color: transparent;\n",
              "      border-left-color: var(--fill-color);\n",
              "      border-top-color: var(--fill-color);\n",
              "    }\n",
              "    30% {\n",
              "      border-color: transparent;\n",
              "      border-left-color: var(--fill-color);\n",
              "      border-top-color: var(--fill-color);\n",
              "      border-right-color: var(--fill-color);\n",
              "    }\n",
              "    40% {\n",
              "      border-color: transparent;\n",
              "      border-right-color: var(--fill-color);\n",
              "      border-top-color: var(--fill-color);\n",
              "    }\n",
              "    60% {\n",
              "      border-color: transparent;\n",
              "      border-right-color: var(--fill-color);\n",
              "    }\n",
              "    80% {\n",
              "      border-color: transparent;\n",
              "      border-right-color: var(--fill-color);\n",
              "      border-bottom-color: var(--fill-color);\n",
              "    }\n",
              "    90% {\n",
              "      border-color: transparent;\n",
              "      border-bottom-color: var(--fill-color);\n",
              "    }\n",
              "  }\n",
              "</style>\n",
              "\n",
              "  <script>\n",
              "    async function quickchart(key) {\n",
              "      const quickchartButtonEl =\n",
              "        document.querySelector('#' + key + ' button');\n",
              "      quickchartButtonEl.disabled = true;  // To prevent multiple clicks.\n",
              "      quickchartButtonEl.classList.add('colab-df-spinner');\n",
              "      try {\n",
              "        const charts = await google.colab.kernel.invokeFunction(\n",
              "            'suggestCharts', [key], {});\n",
              "      } catch (error) {\n",
              "        console.error('Error during call to suggestCharts:', error);\n",
              "      }\n",
              "      quickchartButtonEl.classList.remove('colab-df-spinner');\n",
              "      quickchartButtonEl.classList.add('colab-df-quickchart-complete');\n",
              "    }\n",
              "    (() => {\n",
              "      let quickchartButtonEl =\n",
              "        document.querySelector('#df-8dd7bd9e-e534-4516-bd57-cc8bbc54aa37 button');\n",
              "      quickchartButtonEl.style.display =\n",
              "        google.colab.kernel.accessAllowed ? 'block' : 'none';\n",
              "    })();\n",
              "  </script>\n",
              "</div>\n",
              "\n",
              "    </div>\n",
              "  </div>\n"
            ]
          },
          "metadata": {},
          "execution_count": 35
        }
      ]
    },
    {
      "cell_type": "code",
      "source": [],
      "metadata": {
        "id": "Nkdn9reoRgjv"
      },
      "execution_count": null,
      "outputs": []
    }
  ]
}