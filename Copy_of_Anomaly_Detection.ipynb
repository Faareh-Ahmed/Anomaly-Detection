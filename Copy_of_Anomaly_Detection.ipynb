{
  "nbformat": 4,
  "nbformat_minor": 0,
  "metadata": {
    "colab": {
      "provenance": [],
      "gpuType": "T4",
      "authorship_tag": "ABX9TyNQP2VQgC7RtFJw1bRROC3O",
      "include_colab_link": true
    },
    "kernelspec": {
      "name": "python3",
      "display_name": "Python 3"
    },
    "language_info": {
      "name": "python"
    },
    "accelerator": "GPU"
  },
  "cells": [
    {
      "cell_type": "markdown",
      "metadata": {
        "id": "view-in-github",
        "colab_type": "text"
      },
      "source": [
        "<a href=\"https://colab.research.google.com/github/Faareh-Ahmed/Anomaly-Detection/blob/main/Copy_of_Anomaly_Detection.ipynb\" target=\"_parent\"><img src=\"https://colab.research.google.com/assets/colab-badge.svg\" alt=\"Open In Colab\"/></a>"
      ]
    },
    {
      "cell_type": "code",
      "source": [
        "import pandas as pd\n",
        "import numpy as np\n",
        "import seaborn as ssn\n",
        "import matplotlib.pyplot as plt\n",
        "import pandas as pd\n",
        "import os"
      ],
      "metadata": {
        "id": "EoJOAm8Rujex"
      },
      "execution_count": null,
      "outputs": []
    },
    {
      "cell_type": "markdown",
      "source": [
        "# Storing the dataset"
      ],
      "metadata": {
        "id": "Xjm5CxiokjkD"
      }
    },
    {
      "cell_type": "code",
      "source": [
        "\n",
        "folder_path = '/content/sample_data/CICIoTdataset'\n",
        "\n",
        "# Get a list of all CSV files in the specified folder\n",
        "csv_files = [file for file in os.listdir(folder_path) if file.endswith('.csv')]\n",
        "\n",
        "# Initialize an empty DataFrame\n",
        "data = pd.DataFrame()\n",
        "\n",
        "# Loop through each CSV file and concatenate the data to the main DataFrame\n",
        "for csv_file in csv_files:\n",
        "    file_path = os.path.join(folder_path, csv_file)\n",
        "    temp_df = pd.read_csv(file_path)\n",
        "    data = pd.concat([data, temp_df], ignore_index=True)\n",
        "\n"
      ],
      "metadata": {
        "id": "gKStUSDXknc_"
      },
      "execution_count": null,
      "outputs": []
    },
    {
      "cell_type": "code",
      "source": [
        "data.info()"
      ],
      "metadata": {
        "colab": {
          "base_uri": "https://localhost:8080/"
        },
        "id": "eF49j7s-k62-",
        "outputId": "a3d62916-e334-40ba-f390-b5decfbb493f"
      },
      "execution_count": null,
      "outputs": [
        {
          "output_type": "stream",
          "name": "stdout",
          "text": [
            "<class 'pandas.core.frame.DataFrame'>\n",
            "RangeIndex: 391456 entries, 0 to 391455\n",
            "Data columns (total 47 columns):\n",
            " #   Column           Non-Null Count   Dtype  \n",
            "---  ------           --------------   -----  \n",
            " 0   flow_duration    391456 non-null  float64\n",
            " 1   Header_Length    391456 non-null  float64\n",
            " 2   Protocol Type    391454 non-null  float64\n",
            " 3   Duration         391454 non-null  float64\n",
            " 4   Rate             391453 non-null  float64\n",
            " 5   Srate            391450 non-null  float64\n",
            " 6   Drate            391450 non-null  float64\n",
            " 7   fin_flag_number  391449 non-null  float64\n",
            " 8   syn_flag_number  391449 non-null  float64\n",
            " 9   rst_flag_number  391447 non-null  float64\n",
            " 10  psh_flag_number  391445 non-null  float64\n",
            " 11  ack_flag_number  391444 non-null  float64\n",
            " 12  ece_flag_number  391444 non-null  float64\n",
            " 13  cwr_flag_number  391444 non-null  float64\n",
            " 14  ack_count        391444 non-null  float64\n",
            " 15  syn_count        391444 non-null  float64\n",
            " 16  fin_count        391444 non-null  float64\n",
            " 17  urg_count        391444 non-null  float64\n",
            " 18  rst_count        391444 non-null  float64\n",
            " 19  HTTP             391444 non-null  float64\n",
            " 20  HTTPS            391444 non-null  float64\n",
            " 21  DNS              391444 non-null  float64\n",
            " 22  Telnet           391444 non-null  float64\n",
            " 23  SMTP             391443 non-null  float64\n",
            " 24  SSH              391441 non-null  float64\n",
            " 25  IRC              391441 non-null  float64\n",
            " 26  TCP              391440 non-null  float64\n",
            " 27  UDP              391440 non-null  float64\n",
            " 28  DHCP             391439 non-null  float64\n",
            " 29  ARP              391438 non-null  float64\n",
            " 30  ICMP             391438 non-null  float64\n",
            " 31  IPv              391438 non-null  float64\n",
            " 32  LLC              391438 non-null  float64\n",
            " 33  Tot sum          391437 non-null  float64\n",
            " 34  Min              391436 non-null  float64\n",
            " 35  Max              391435 non-null  float64\n",
            " 36  AVG              391434 non-null  float64\n",
            " 37  Std              391433 non-null  float64\n",
            " 38  Tot size         391433 non-null  float64\n",
            " 39  IAT              391433 non-null  float64\n",
            " 40  Number           391430 non-null  float64\n",
            " 41  Magnitue         391429 non-null  float64\n",
            " 42  Radius           391428 non-null  float64\n",
            " 43  Covariance       391428 non-null  float64\n",
            " 44  Variance         391428 non-null  float64\n",
            " 45  Weight           391427 non-null  float64\n",
            " 46  label            391426 non-null  object \n",
            "dtypes: float64(46), object(1)\n",
            "memory usage: 140.4+ MB\n"
          ]
        }
      ]
    },
    {
      "cell_type": "code",
      "source": [
        "print(data['label'].nunique())"
      ],
      "metadata": {
        "colab": {
          "base_uri": "https://localhost:8080/"
        },
        "id": "T6qEK4WplAtG",
        "outputId": "d14623cd-48df-43fe-d6de-89f17dad9f5f"
      },
      "execution_count": null,
      "outputs": [
        {
          "output_type": "stream",
          "name": "stdout",
          "text": [
            "34\n"
          ]
        }
      ]
    },
    {
      "cell_type": "code",
      "source": [
        "print(data['label'].unique())"
      ],
      "metadata": {
        "colab": {
          "base_uri": "https://localhost:8080/"
        },
        "id": "apjY0bcSlJme",
        "outputId": "d38430ae-192b-411f-d0d5-2dd077080fcb"
      },
      "execution_count": null,
      "outputs": [
        {
          "output_type": "stream",
          "name": "stdout",
          "text": [
            "['DDoS-UDP_Flood' 'DoS-TCP_Flood' 'DoS-UDP_Flood' 'DDoS-TCP_Flood'\n",
            " 'DDoS-SYN_Flood' 'DoS-SYN_Flood' 'DDoS-ICMP_Flood' 'Mirai-greeth_flood'\n",
            " 'Mirai-udpplain' 'DDoS-SynonymousIP_Flood' 'DDoS-RSTFINFlood'\n",
            " 'DDoS-PSHACK_Flood' 'Mirai-greip_flood' 'BenignTraffic'\n",
            " 'DDoS-UDP_Fragmentation' 'MITM-ArpSpoofing' 'DDoS-ICMP_Fragmentation'\n",
            " 'DNS_Spoofing' 'DDoS-ACK_Fragmentation' 'Recon-OSScan' 'Recon-PortScan'\n",
            " 'Recon-HostDiscovery' 'DoS-HTTP_Flood' 'VulnerabilityScan'\n",
            " 'DDoS-HTTP_Flood' 'DictionaryBruteForce' 'DDoS-SlowLoris'\n",
            " 'BrowserHijacking' 'Backdoor_Malware' 'SqlInjection' 'XSS'\n",
            " 'Recon-PingSweep' 'Uploading_Attack' nan 'CommandInjection']\n"
          ]
        }
      ]
    },
    {
      "cell_type": "code",
      "source": [
        "total_nan_rows = data[data['label'].isna()].shape[0]\n",
        "\n",
        "print(\"Total rows with NaN as label:\", total_nan_rows)"
      ],
      "metadata": {
        "colab": {
          "base_uri": "https://localhost:8080/"
        },
        "id": "9StVruevOWrB",
        "outputId": "a2c77f18-9861-4e53-8dc7-195af0740484"
      },
      "execution_count": null,
      "outputs": [
        {
          "output_type": "stream",
          "name": "stdout",
          "text": [
            "Total rows with NaN as label: 30\n"
          ]
        }
      ]
    },
    {
      "cell_type": "code",
      "source": [
        "# Remove rows with NaN in the 'label' column\n",
        "data = data.dropna(subset=['label'])"
      ],
      "metadata": {
        "id": "kX85Lo6QOcZa"
      },
      "execution_count": null,
      "outputs": []
    },
    {
      "cell_type": "code",
      "source": [
        "data.info()"
      ],
      "metadata": {
        "colab": {
          "base_uri": "https://localhost:8080/"
        },
        "id": "1W90_zhLOlvq",
        "outputId": "d36d0f68-a609-4c4b-d5cb-d898cc13f4a7"
      },
      "execution_count": null,
      "outputs": [
        {
          "output_type": "stream",
          "name": "stdout",
          "text": [
            "<class 'pandas.core.frame.DataFrame'>\n",
            "Int64Index: 391426 entries, 0 to 391454\n",
            "Data columns (total 47 columns):\n",
            " #   Column           Non-Null Count   Dtype  \n",
            "---  ------           --------------   -----  \n",
            " 0   flow_duration    391426 non-null  float64\n",
            " 1   Header_Length    391426 non-null  float64\n",
            " 2   Protocol Type    391426 non-null  float64\n",
            " 3   Duration         391426 non-null  float64\n",
            " 4   Rate             391426 non-null  float64\n",
            " 5   Srate            391426 non-null  float64\n",
            " 6   Drate            391426 non-null  float64\n",
            " 7   fin_flag_number  391426 non-null  float64\n",
            " 8   syn_flag_number  391426 non-null  float64\n",
            " 9   rst_flag_number  391426 non-null  float64\n",
            " 10  psh_flag_number  391426 non-null  float64\n",
            " 11  ack_flag_number  391426 non-null  float64\n",
            " 12  ece_flag_number  391426 non-null  float64\n",
            " 13  cwr_flag_number  391426 non-null  float64\n",
            " 14  ack_count        391426 non-null  float64\n",
            " 15  syn_count        391426 non-null  float64\n",
            " 16  fin_count        391426 non-null  float64\n",
            " 17  urg_count        391426 non-null  float64\n",
            " 18  rst_count        391426 non-null  float64\n",
            " 19  HTTP             391426 non-null  float64\n",
            " 20  HTTPS            391426 non-null  float64\n",
            " 21  DNS              391426 non-null  float64\n",
            " 22  Telnet           391426 non-null  float64\n",
            " 23  SMTP             391426 non-null  float64\n",
            " 24  SSH              391426 non-null  float64\n",
            " 25  IRC              391426 non-null  float64\n",
            " 26  TCP              391426 non-null  float64\n",
            " 27  UDP              391426 non-null  float64\n",
            " 28  DHCP             391426 non-null  float64\n",
            " 29  ARP              391426 non-null  float64\n",
            " 30  ICMP             391426 non-null  float64\n",
            " 31  IPv              391426 non-null  float64\n",
            " 32  LLC              391426 non-null  float64\n",
            " 33  Tot sum          391426 non-null  float64\n",
            " 34  Min              391426 non-null  float64\n",
            " 35  Max              391426 non-null  float64\n",
            " 36  AVG              391426 non-null  float64\n",
            " 37  Std              391426 non-null  float64\n",
            " 38  Tot size         391426 non-null  float64\n",
            " 39  IAT              391426 non-null  float64\n",
            " 40  Number           391426 non-null  float64\n",
            " 41  Magnitue         391426 non-null  float64\n",
            " 42  Radius           391426 non-null  float64\n",
            " 43  Covariance       391426 non-null  float64\n",
            " 44  Variance         391426 non-null  float64\n",
            " 45  Weight           391426 non-null  float64\n",
            " 46  label            391426 non-null  object \n",
            "dtypes: float64(46), object(1)\n",
            "memory usage: 143.3+ MB\n"
          ]
        }
      ]
    },
    {
      "cell_type": "code",
      "source": [
        "print(data['label'].nunique())"
      ],
      "metadata": {
        "colab": {
          "base_uri": "https://localhost:8080/"
        },
        "id": "rI-zyxXfO4qW",
        "outputId": "2385c01f-6028-4bf5-f705-3e6856d38c11"
      },
      "execution_count": null,
      "outputs": [
        {
          "output_type": "stream",
          "name": "stdout",
          "text": [
            "34\n"
          ]
        }
      ]
    },
    {
      "cell_type": "code",
      "source": [
        "print(data['label'].unique())"
      ],
      "metadata": {
        "colab": {
          "base_uri": "https://localhost:8080/"
        },
        "id": "f3bn2WhPOzGY",
        "outputId": "e4e03db6-c23a-4cef-f79e-adecf53e7fc9"
      },
      "execution_count": null,
      "outputs": [
        {
          "output_type": "stream",
          "name": "stdout",
          "text": [
            "['DDoS-UDP_Flood' 'DoS-TCP_Flood' 'DoS-UDP_Flood' 'DDoS-TCP_Flood'\n",
            " 'DDoS-SYN_Flood' 'DoS-SYN_Flood' 'DDoS-ICMP_Flood' 'Mirai-greeth_flood'\n",
            " 'Mirai-udpplain' 'DDoS-SynonymousIP_Flood' 'DDoS-RSTFINFlood'\n",
            " 'DDoS-PSHACK_Flood' 'Mirai-greip_flood' 'BenignTraffic'\n",
            " 'DDoS-UDP_Fragmentation' 'MITM-ArpSpoofing' 'DDoS-ICMP_Fragmentation'\n",
            " 'DNS_Spoofing' 'DDoS-ACK_Fragmentation' 'Recon-OSScan' 'Recon-PortScan'\n",
            " 'Recon-HostDiscovery' 'DoS-HTTP_Flood' 'VulnerabilityScan'\n",
            " 'DDoS-HTTP_Flood' 'DictionaryBruteForce' 'DDoS-SlowLoris'\n",
            " 'BrowserHijacking' 'Backdoor_Malware' 'SqlInjection' 'XSS'\n",
            " 'Recon-PingSweep' 'Uploading_Attack' 'CommandInjection']\n"
          ]
        }
      ]
    },
    {
      "cell_type": "code",
      "source": [
        "total_nan_rows = data[data['label'].isna()].shape[0]\n",
        "\n",
        "print(\"Total rows with NaN as label:\", total_nan_rows)"
      ],
      "metadata": {
        "colab": {
          "base_uri": "https://localhost:8080/"
        },
        "id": "Y8YRLlEHPbUM",
        "outputId": "14a7b514-4fa5-43fe-fd6f-c6b0311a056d"
      },
      "execution_count": null,
      "outputs": [
        {
          "output_type": "stream",
          "name": "stdout",
          "text": [
            "Total rows with NaN as label: 0\n"
          ]
        }
      ]
    },
    {
      "cell_type": "markdown",
      "source": [
        "# Classifying Anomaly as 1 and Non-Anomaly as 0"
      ],
      "metadata": {
        "id": "2-7MextVmVUq"
      }
    },
    {
      "cell_type": "markdown",
      "source": [
        "The label feature has 34/35 different values originally which are classified as different types of anomaly but the BenignTraffic  meaning that NON-Anomaly. Hence we will assign the BenignTraffic values in the dataset as 0 and Anomaly values as 1."
      ],
      "metadata": {
        "id": "O6KZ0dLEme9c"
      }
    },
    {
      "cell_type": "code",
      "source": [
        "# Assuming your DataFrame is named df\n",
        "binary_mapping = {'BenignTraffic': 0, 'DDoS-SYN_Flood': 1, 'DDoS-PSHACK_Flood': 1, 'DDoS-ICMP_Flood': 1,\n",
        "                  'DDoS-TCP_Flood': 1, 'DDoS-SynonymousIP_Flood': 1, 'DDoS-RSTFINFlood': 1,\n",
        "                  'DoS-SYN_Flood': 1, 'DDoS-UDP_Flood': 1, 'Mirai-greip_flood': 1,\n",
        "                  'DDoS-UDP_Fragmentation': 1, 'DoS-UDP_Flood': 1, 'Mirai-udpplain': 1,\n",
        "                  'MITM-ArpSpoofing': 1, 'DoS-TCP_Flood': 1, 'DNS_Spoofing': 1,\n",
        "                  'Mirai-greeth_flood': 1, 'DDoS-ACK_Fragmentation': 1, 'DDoS-ICMP_Fragmentation': 1,\n",
        "                  'Recon-OSScan': 1, 'Recon-HostDiscovery': 1, 'DoS-HTTP_Flood': 1,\n",
        "                  'VulnerabilityScan': 1, 'Recon-PortScan': 1, 'DictionaryBruteForce': 1,\n",
        "                  'DDoS-SlowLoris': 1, 'DDoS-HTTP_Flood': 1, 'CommandInjection': 1,\n",
        "                  'SqlInjection': 1, 'BrowserHijacking': 1, 'XSS': 1, 'Backdoor_Malware': 1,\n",
        "                  'Recon-PingSweep': 1, 'Uploading_Attack': 1, 'DDoS-SynonymousIP': 1, 'DD': 1, 'DDoS-': 1,\n",
        "                  'DoS-UDP_Flo': 1, 'DDoS': 1 }\n",
        "\n",
        "# Map the values in the 'label' column using the binary_mapping\n",
        "data['label'] = data['label'].map(binary_mapping).fillna(1).astype(int)\n"
      ],
      "metadata": {
        "id": "eHjGqklPmFmZ"
      },
      "execution_count": null,
      "outputs": []
    },
    {
      "cell_type": "code",
      "source": [
        "print(data['label'].nunique())"
      ],
      "metadata": {
        "colab": {
          "base_uri": "https://localhost:8080/"
        },
        "id": "t1ZAt7txmMTq",
        "outputId": "c3b938c9-0b9b-47e4-972b-e2d732028e9d"
      },
      "execution_count": null,
      "outputs": [
        {
          "output_type": "stream",
          "name": "stdout",
          "text": [
            "2\n"
          ]
        }
      ]
    },
    {
      "cell_type": "code",
      "source": [
        "print(data['label'].unique())"
      ],
      "metadata": {
        "colab": {
          "base_uri": "https://localhost:8080/"
        },
        "id": "yw57eoy1mOrY",
        "outputId": "4cb09ef2-4bea-4774-a29d-db62ec1d9187"
      },
      "execution_count": null,
      "outputs": [
        {
          "output_type": "stream",
          "name": "stdout",
          "text": [
            "[1 0]\n"
          ]
        }
      ]
    },
    {
      "cell_type": "code",
      "source": [
        "total_benign_traffic_rows = data[data['label'] == 0].shape[0]\n",
        "\n",
        "print(\"Total rows with label 'BenignTaffic' :\", total_benign_traffic_rows)\n"
      ],
      "metadata": {
        "colab": {
          "base_uri": "https://localhost:8080/"
        },
        "id": "PDCqIDeRaIPY",
        "outputId": "4b5f637d-98a7-4bb0-963c-b64425167b91"
      },
      "execution_count": null,
      "outputs": [
        {
          "output_type": "stream",
          "name": "stdout",
          "text": [
            "Total rows with label 'BenignTaffic' : 9025\n"
          ]
        }
      ]
    },
    {
      "cell_type": "markdown",
      "source": [
        "# Data Analysis"
      ],
      "metadata": {
        "id": "dthhrRE_IIpi"
      }
    },
    {
      "cell_type": "markdown",
      "source": [
        "# Model Training"
      ],
      "metadata": {
        "id": "IuxrcP-rSVTe"
      }
    },
    {
      "cell_type": "code",
      "source": [
        "from sklearn.model_selection import train_test_split\n",
        "X = data.drop(\"label\", axis=1)\n",
        "Y = data[\"label\"]\n"
      ],
      "metadata": {
        "id": "A0BT-0s1SU9p"
      },
      "execution_count": null,
      "outputs": []
    },
    {
      "cell_type": "code",
      "source": [
        "\n",
        "# Count occurrences of each class\n",
        "class_counts = Y.value_counts()\n",
        "\n",
        "# Define colors for each class\n",
        "colors = ['blue', 'red']  # Adjust colors as needed\n",
        "\n",
        "# Create the plot\n",
        "plt.figure(figsize=(8, 6))  # Adjust figure size as needed\n",
        "\n",
        "plt.bar(class_counts.index, class_counts.values, color=colors)\n",
        "plt.xlabel(\"Class Label\")\n",
        "plt.ylabel(\"Number of Data Points\")\n",
        "plt.title(\"Distribution of Class Labels\")\n",
        "\n",
        "# Add a legend if needed\n",
        "plt.legend(class_counts.index, loc='upper left')\n",
        "\n",
        "plt.show()\n"
      ],
      "metadata": {
        "colab": {
          "base_uri": "https://localhost:8080/",
          "height": 564
        },
        "id": "S9r3u9_UvFQv",
        "outputId": "e0503e9c-eb21-45ab-cfe1-fc78b7bec189"
      },
      "execution_count": null,
      "outputs": [
        {
          "output_type": "display_data",
          "data": {
            "text/plain": [
              "<Figure size 800x600 with 1 Axes>"
            ],
            "image/png": "[encoded data removed]"
          },
          "metadata": {}
        }
      ]
    },
    {
      "cell_type": "code",
      "source": [
        "# Check class imbalance\n",
        "print(Y.value_counts())"
      ],
      "metadata": {
        "colab": {
          "base_uri": "https://localhost:8080/"
        },
        "id": "vEI45AJiOp_8",
        "outputId": "e3d0527f-90cd-499d-bcc5-9c2bdb5ff69f"
      },
      "execution_count": null,
      "outputs": [
        {
          "output_type": "stream",
          "name": "stdout",
          "text": [
            "1    382401\n",
            "0      9025\n",
            "Name: label, dtype: int64\n"
          ]
        }
      ]
    },
    {
      "cell_type": "code",
      "source": [
        "Y.value_counts().plot.pie(autopct=\"%.2f\")"
      ],
      "metadata": {
        "colab": {
          "base_uri": "https://localhost:8080/",
          "height": 424
        },
        "id": "XHQVos-vUSeS",
        "outputId": "59de3de2-59c1-4431-f614-5f5c5b360a0a"
      },
      "execution_count": null,
      "outputs": [
        {
          "output_type": "execute_result",
          "data": {
            "text/plain": [
              "<Axes: ylabel='label'>"
            ]
          },
          "metadata": {},
          "execution_count": 19
        },
        {
          "output_type": "display_data",
          "data": {
            "text/plain": [
              "<Figure size 640x480 with 1 Axes>"
            ],
            "image/png": "[encoded data removed]"
          },
          "metadata": {}
        }
      ]
    },
    {
      "cell_type": "code",
      "source": [
        "from imblearn.over_sampling import ADASYN\n",
        "ros = ADASYN(sampling_strategy='auto', random_state=None, n_neighbors=5, n_jobs=None)\n",
        "X_ros , Y_ros = ros.fit_resample(X,Y)\n"
      ],
      "metadata": {
        "id": "ik30iANReqiX"
      },
      "execution_count": null,
      "outputs": []
    },
    {
      "cell_type": "code",
      "source": [
        "print(Y_ros.value_counts())"
      ],
      "metadata": {
        "colab": {
          "base_uri": "https://localhost:8080/"
        },
        "id": "iY4Rt-Y0fwjL",
        "outputId": "d6746696-4688-4c5a-94af-b61e19a18011"
      },
      "execution_count": null,
      "outputs": [
        {
          "output_type": "stream",
          "name": "stdout",
          "text": [
            "1    382401\n",
            "0    381574\n",
            "Name: label, dtype: int64\n"
          ]
        }
      ]
    },
    {
      "cell_type": "code",
      "source": [
        "Y_ros.value_counts().plot.pie(autopct=\"%.2f\")"
      ],
      "metadata": {
        "colab": {
          "base_uri": "https://localhost:8080/",
          "height": 424
        },
        "id": "Hn71CZj0f7SA",
        "outputId": "26b746cb-3dce-4716-86e5-22c50fae9e82"
      },
      "execution_count": null,
      "outputs": [
        {
          "output_type": "execute_result",
          "data": {
            "text/plain": [
              "<Axes: ylabel='label'>"
            ]
          },
          "metadata": {},
          "execution_count": 22
        },
        {
          "output_type": "display_data",
          "data": {
            "text/plain": [
              "<Figure size 640x480 with 1 Axes>"
            ],
            "image/png": "[encoded data removed]"
          },
          "metadata": {}
        }
      ]
    },
    {
      "cell_type": "code",
      "source": [
        "from sklearn.preprocessing import MinMaxScaler, StandardScaler\n",
        "scalar = StandardScaler()\n",
        "X_scaled = scalar.fit_transform(X_ros)\n"
      ],
      "metadata": {
        "id": "3PXCcmGZBonH"
      },
      "execution_count": null,
      "outputs": []
    },
    {
      "cell_type": "code",
      "source": [
        "from sklearn.model_selection import train_test_split\n",
        "\n",
        "X_train, X_test, Y_train, Y_test = train_test_split(X_ros,Y_ros,test_size=0.2,random_state=42)\n",
        "\n",
        "print(X_train.shape)\n",
        "print(X_test.shape)\n",
        "print(Y_train.shape)\n",
        "print(Y_test.shape)"
      ],
      "metadata": {
        "colab": {
          "base_uri": "https://localhost:8080/"
        },
        "id": "h55emN0KUFOh",
        "outputId": "29d41b5a-4b74-476e-d673-2999ccf7c9c2"
      },
      "execution_count": null,
      "outputs": [
        {
          "output_type": "stream",
          "name": "stdout",
          "text": [
            "(611180, 46)\n",
            "(152795, 46)\n",
            "(611180,)\n",
            "(152795,)\n"
          ]
        }
      ]
    },
    {
      "cell_type": "code",
      "source": [
        "from sklearn.linear_model import LogisticRegression\n",
        "\n",
        "logistic_regression_model = LogisticRegression(n_jobs=-1)\n",
        "logistic_regression_model.fit(X_train, Y_train)\n",
        "Y_pred = logistic_regression_model.predict(X_test)\n"
      ],
      "metadata": {
        "id": "THKoUcuEVUGN"
      },
      "execution_count": null,
      "outputs": []
    },
    {
      "cell_type": "markdown",
      "source": [
        "# Model Evaluation"
      ],
      "metadata": {
        "id": "kzX_dnbmVmGd"
      }
    },
    {
      "cell_type": "code",
      "source": [
        "from sklearn.metrics import accuracy_score, recall_score, precision_score, f1_score\n",
        "\n",
        "# Evaluate the model\n",
        "print(\"Accuracy:\", accuracy_score(Y_test, Y_pred))\n",
        "print(\"Recall:\", recall_score(Y_test, Y_pred, average='macro'))\n",
        "print(\"Precision:\", precision_score(Y_test, Y_pred, average='macro'))\n",
        "print(\"F1 Score:\", f1_score(Y_test, Y_pred, average='macro'))"
      ],
      "metadata": {
        "colab": {
          "base_uri": "https://localhost:8080/"
        },
        "id": "IWriZJiCVlDv",
        "outputId": "499166b2-ef80-4751-fdf9-73249143ab9a"
      },
      "execution_count": null,
      "outputs": [
        {
          "output_type": "stream",
          "name": "stdout",
          "text": [
            "Accuracy: 0.978467881802415\n",
            "Recall: 0.9784717014894896\n",
            "Precision: 0.9785261428202501\n",
            "F1 Score: 0.9784673420405142\n"
          ]
        }
      ]
    },
    {
      "cell_type": "code",
      "source": [
        "from sklearn.metrics import classification_report\n",
        "\n",
        "print(classification_report(Y_test,Y_pred))"
      ],
      "metadata": {
        "colab": {
          "base_uri": "https://localhost:8080/"
        },
        "id": "D8tFaHxXkqBh",
        "outputId": "2b1a7789-f503-4670-ad14-a6a7b4b818dc"
      },
      "execution_count": null,
      "outputs": [
        {
          "output_type": "stream",
          "name": "stdout",
          "text": [
            "              precision    recall  f1-score   support\n",
            "\n",
            "           0       0.97      0.98      0.98     76346\n",
            "           1       0.98      0.97      0.98     76449\n",
            "\n",
            "    accuracy                           0.98    152795\n",
            "   macro avg       0.98      0.98      0.98    152795\n",
            "weighted avg       0.98      0.98      0.98    152795\n",
            "\n"
          ]
        }
      ]
    },
    {
      "cell_type": "markdown",
      "source": [
        "# Confusion Matrix"
      ],
      "metadata": {
        "id": "ORprGHYqWVFj"
      }
    },
    {
      "cell_type": "code",
      "source": [
        "from sklearn.metrics import confusion_matrix, ConfusionMatrixDisplay\n",
        "\n",
        "cm = confusion_matrix(Y_test, Y_pred, labels=logistic_regression_model.classes_)\n",
        "disp = ConfusionMatrixDisplay(confusion_matrix=cm, display_labels=logistic_regression_model.classes_)\n",
        "disp.plot()\n",
        "plt.show()\n"
      ],
      "metadata": {
        "colab": {
          "base_uri": "https://localhost:8080/",
          "height": 458
        },
        "id": "iVoPWqrnWY-a",
        "outputId": "3ef972b1-06ea-411b-979e-d3291c908d74"
      },
      "execution_count": null,
      "outputs": [
        {
          "output_type": "display_data",
          "data": {
            "text/plain": [
              "<Figure size 640x480 with 2 Axes>"
            ],
            "image/png": "[encoded data removed]"
          },
          "metadata": {}
        }
      ]
    },
    {
      "cell_type": "code",
      "source": [
        "from sklearn.metrics import roc_curve, roc_auc_score\n",
        "\n",
        "y_pred_proba = logistic_regression_model.predict_proba(X_test)[:, 1]\n",
        "fpr, tpr, _ = roc_curve(Y_test, y_pred_proba)\n",
        "auc = roc_auc_score(Y_test, y_pred_proba)\n",
        "\n",
        "plt.plot(fpr, tpr, label=\"data 1, auc=\"+str(auc))\n",
        "plt.legend(loc=4)\n",
        "plt.show()\n",
        "\n",
        "# plotting the ROC curve and calculating AUC score\n",
        "# 0(worst) to 1(best) -> 0.98 score\n"
      ],
      "metadata": {
        "colab": {
          "base_uri": "https://localhost:8080/",
          "height": 434
        },
        "id": "lgFnNCChJ_Ol",
        "outputId": "3900b87a-f587-44b9-eacd-a099efd628ff"
      },
      "execution_count": 55,
      "outputs": [
        {
          "output_type": "display_data",
          "data": {
            "text/plain": [
              "<Figure size 640x480 with 1 Axes>"
            ],
            "image/png": "[encoded data removed]"
          },
          "metadata": {}
        }
      ]
    }
  ]
}