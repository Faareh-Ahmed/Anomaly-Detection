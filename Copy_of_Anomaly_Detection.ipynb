{
  "nbformat": 4,
  "nbformat_minor": 0,
  "metadata": {
    "colab": {
      "provenance": [],
      "gpuType": "T4",
      "authorship_tag": "ABX9TyM+jXOEPo2MRGrybiZn6bxn",
      "include_colab_link": true
    },
    "kernelspec": {
      "name": "python3",
      "display_name": "Python 3"
    },
    "language_info": {
      "name": "python"
    },
    "accelerator": "GPU"
  },
  "cells": [
    {
      "cell_type": "markdown",
      "metadata": {
        "id": "view-in-github",
        "colab_type": "text"
      },
      "source": [
        "<a href=\"https://colab.research.google.com/github/Faareh-Ahmed/Anomaly-Detection/blob/main/Copy_of_Anomaly_Detection.ipynb\" target=\"_parent\"><img src=\"https://colab.research.google.com/assets/colab-badge.svg\" alt=\"Open In Colab\"/></a>"
      ]
    },
    {
      "cell_type": "code",
      "source": [
        "import pandas as pd\n",
        "import numpy as np\n",
        "import seaborn as ssn\n",
        "import matplotlib.pyplot as plt\n",
        "import pandas as pd\n",
        "import os"
      ],
      "metadata": {
        "id": "ETpOHxLtjEqk"
      },
      "execution_count": 3,
      "outputs": []
    },
    {
      "cell_type": "markdown",
      "source": [
        "# Storing the dataset"
      ],
      "metadata": {
        "id": "Xjm5CxiokjkD"
      }
    },
    {
      "cell_type": "code",
      "source": [
        "\n",
        "folder_path = '/content/sample_data/CICIoTdataset'\n",
        "\n",
        "# Get a list of all CSV files in the specified folder\n",
        "csv_files = [file for file in os.listdir(folder_path) if file.endswith('.csv')]\n",
        "\n",
        "# Initialize an empty DataFrame\n",
        "df = pd.DataFrame()\n",
        "\n",
        "# Loop through each CSV file and concatenate the data to the main DataFrame\n",
        "for csv_file in csv_files:\n",
        "    file_path = os.path.join(folder_path, csv_file)\n",
        "    temp_df = pd.read_csv(file_path)\n",
        "    df = pd.concat([df, temp_df], ignore_index=True)\n",
        "\n"
      ],
      "metadata": {
        "id": "gKStUSDXknc_"
      },
      "execution_count": 4,
      "outputs": []
    },
    {
      "cell_type": "code",
      "source": [
        "df.info()"
      ],
      "metadata": {
        "colab": {
          "base_uri": "https://localhost:8080/"
        },
        "id": "eF49j7s-k62-",
        "outputId": "76a013dd-6160-4d25-8dd0-71ede7191044"
      },
      "execution_count": 5,
      "outputs": [
        {
          "output_type": "stream",
          "name": "stdout",
          "text": [
            "<class 'pandas.core.frame.DataFrame'>\n",
            "RangeIndex: 281240 entries, 0 to 281239\n",
            "Data columns (total 47 columns):\n",
            " #   Column           Non-Null Count   Dtype  \n",
            "---  ------           --------------   -----  \n",
            " 0   flow_duration    281240 non-null  float64\n",
            " 1   Header_Length    281238 non-null  float64\n",
            " 2   Protocol Type    281238 non-null  float64\n",
            " 3   Duration         281237 non-null  float64\n",
            " 4   Rate             281237 non-null  float64\n",
            " 5   Srate            281235 non-null  float64\n",
            " 6   Drate            281235 non-null  float64\n",
            " 7   fin_flag_number  281235 non-null  float64\n",
            " 8   syn_flag_number  281235 non-null  float64\n",
            " 9   rst_flag_number  281235 non-null  float64\n",
            " 10  psh_flag_number  281235 non-null  float64\n",
            " 11  ack_flag_number  281235 non-null  float64\n",
            " 12  ece_flag_number  281234 non-null  float64\n",
            " 13  cwr_flag_number  281234 non-null  float64\n",
            " 14  ack_count        281234 non-null  float64\n",
            " 15  syn_count        281234 non-null  float64\n",
            " 16  fin_count        281234 non-null  float64\n",
            " 17  urg_count        281234 non-null  float64\n",
            " 18  rst_count        281234 non-null  float64\n",
            " 19  HTTP             281234 non-null  float64\n",
            " 20  HTTPS            281233 non-null  float64\n",
            " 21  DNS              281233 non-null  float64\n",
            " 22  Telnet           281233 non-null  float64\n",
            " 23  SMTP             281233 non-null  float64\n",
            " 24  SSH              281230 non-null  float64\n",
            " 25  IRC              281229 non-null  float64\n",
            " 26  TCP              281229 non-null  float64\n",
            " 27  UDP              281229 non-null  float64\n",
            " 28  DHCP             281229 non-null  float64\n",
            " 29  ARP              281229 non-null  float64\n",
            " 30  ICMP             281229 non-null  float64\n",
            " 31  IPv              281229 non-null  float64\n",
            " 32  LLC              281229 non-null  float64\n",
            " 33  Tot sum          281228 non-null  float64\n",
            " 34  Min              281228 non-null  float64\n",
            " 35  Max              281228 non-null  float64\n",
            " 36  AVG              281227 non-null  float64\n",
            " 37  Std              281226 non-null  float64\n",
            " 38  Tot size         281226 non-null  float64\n",
            " 39  IAT              281226 non-null  float64\n",
            " 40  Number           281224 non-null  float64\n",
            " 41  Magnitue         281224 non-null  float64\n",
            " 42  Radius           281222 non-null  float64\n",
            " 43  Covariance       281222 non-null  float64\n",
            " 44  Variance         281221 non-null  float64\n",
            " 45  Weight           281221 non-null  float64\n",
            " 46  label            281220 non-null  object \n",
            "dtypes: float64(46), object(1)\n",
            "memory usage: 100.8+ MB\n"
          ]
        }
      ]
    },
    {
      "cell_type": "code",
      "source": [
        "print(df['label'].nunique())"
      ],
      "metadata": {
        "colab": {
          "base_uri": "https://localhost:8080/"
        },
        "id": "T6qEK4WplAtG",
        "outputId": "4fea224a-f4ce-45f8-caa8-b38a7ad471ab"
      },
      "execution_count": 6,
      "outputs": [
        {
          "output_type": "stream",
          "name": "stdout",
          "text": [
            "35\n"
          ]
        }
      ]
    },
    {
      "cell_type": "code",
      "source": [
        "print(df['label'].unique())"
      ],
      "metadata": {
        "colab": {
          "base_uri": "https://localhost:8080/"
        },
        "id": "apjY0bcSlJme",
        "outputId": "dc90da65-00e5-4b39-ab69-72a97525b3fc"
      },
      "execution_count": 7,
      "outputs": [
        {
          "output_type": "stream",
          "name": "stdout",
          "text": [
            "['DDoS-SYN_Flood' 'DDoS-PSHACK_Flood' 'DDoS-ICMP_Flood' 'DDoS-TCP_Flood'\n",
            " 'DDoS-SynonymousIP_Flood' 'BenignTraffic' 'DDoS-RSTFINFlood'\n",
            " 'DoS-SYN_Flood' 'DDoS-UDP_Flood' 'Mirai-greip_flood'\n",
            " 'DDoS-UDP_Fragmentation' 'DoS-UDP_Flood' 'Mirai-udpplain'\n",
            " 'MITM-ArpSpoofing' 'DoS-TCP_Flood' 'DNS_Spoofing' 'Mirai-greeth_flood'\n",
            " 'DDoS-ACK_Fragmentation' 'DDoS-ICMP_Fragmentation' 'Recon-OSScan'\n",
            " 'Recon-HostDiscovery' 'DoS-HTTP_Flood' 'VulnerabilityScan'\n",
            " 'Recon-PortScan' 'DictionaryBruteForce' 'DDoS-SlowLoris'\n",
            " 'DDoS-HTTP_Flood' 'CommandInjection' 'SqlInjection' 'BrowserHijacking'\n",
            " 'Recon-PingSweep' 'XSS' nan 'Backdoor_Malware' 'Uploading_Attack'\n",
            " 'DDoS-SY']\n"
          ]
        }
      ]
    },
    {
      "cell_type": "markdown",
      "source": [
        "# Classifying Anomaly as 1 and Non-Anomaly as 0"
      ],
      "metadata": {
        "id": "2-7MextVmVUq"
      }
    },
    {
      "cell_type": "markdown",
      "source": [
        "The label feature has 35 different values originally which are classified as different types of anomaly but the NAN values means that they are empty values meaning that NON-Anomaly. Hence we will assign the NAN values in the dataset as 0 and Anomaly values as 1"
      ],
      "metadata": {
        "id": "O6KZ0dLEme9c"
      }
    },
    {
      "cell_type": "code",
      "source": [
        "# Assuming your DataFrame is named df\n",
        "df['label'] = df['label'].fillna(0).map(lambda x: 1 if x != 0 else 0)"
      ],
      "metadata": {
        "id": "eHjGqklPmFmZ"
      },
      "execution_count": 8,
      "outputs": []
    },
    {
      "cell_type": "code",
      "source": [
        "print(df['label'].nunique())"
      ],
      "metadata": {
        "colab": {
          "base_uri": "https://localhost:8080/"
        },
        "id": "t1ZAt7txmMTq",
        "outputId": "3371c1da-8912-416c-c283-9d1902bae42e"
      },
      "execution_count": 9,
      "outputs": [
        {
          "output_type": "stream",
          "name": "stdout",
          "text": [
            "2\n"
          ]
        }
      ]
    },
    {
      "cell_type": "code",
      "source": [
        "print(df['label'].unique())"
      ],
      "metadata": {
        "colab": {
          "base_uri": "https://localhost:8080/"
        },
        "id": "yw57eoy1mOrY",
        "outputId": "646554c3-0bf5-4b5d-d17b-f508bb0358f2"
      },
      "execution_count": 10,
      "outputs": [
        {
          "output_type": "stream",
          "name": "stdout",
          "text": [
            "[1 0]\n"
          ]
        }
      ]
    }
  ]
}