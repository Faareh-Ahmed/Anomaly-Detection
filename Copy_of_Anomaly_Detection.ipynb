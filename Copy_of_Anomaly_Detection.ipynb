{
  "nbformat": 4,
  "nbformat_minor": 0,
  "metadata": {
    "colab": {
      "provenance": [],
      "gpuType": "T4",
      "authorship_tag": "ABX9TyPBdREJj5svmvqyK56D1CQI",
      "include_colab_link": true
    },
    "kernelspec": {
      "name": "python3",
      "display_name": "Python 3"
    },
    "language_info": {
      "name": "python"
    },
    "accelerator": "GPU"
  },
  "cells": [
    {
      "cell_type": "markdown",
      "metadata": {
        "id": "view-in-github",
        "colab_type": "text"
      },
      "source": [
        "<a href=\"https://colab.research.google.com/github/Faareh-Ahmed/Anomaly-Detection/blob/main/Copy_of_Anomaly_Detection.ipynb\" target=\"_parent\"><img src=\"https://colab.research.google.com/assets/colab-badge.svg\" alt=\"Open In Colab\"/></a>"
      ]
    },
    {
      "cell_type": "code",
      "source": [
        "import pandas as pd\n",
        "import numpy as np\n",
        "import seaborn as ssn\n",
        "import matplotlib.pyplot as plt\n",
        "import pandas as pd\n",
        "import os"
      ],
      "metadata": {
        "id": "EoJOAm8Rujex"
      },
      "execution_count": 1,
      "outputs": []
    },
    {
      "cell_type": "markdown",
      "source": [
        "# Storing the dataset"
      ],
      "metadata": {
        "id": "Xjm5CxiokjkD"
      }
    },
    {
      "cell_type": "code",
      "source": [
        "\n",
        "folder_path = '/content/sample_data/CICIoTdataset'\n",
        "\n",
        "# Get a list of all CSV files in the specified folder\n",
        "csv_files = [file for file in os.listdir(folder_path) if file.endswith('.csv')]\n",
        "\n",
        "# Initialize an empty DataFrame\n",
        "data = pd.DataFrame()\n",
        "\n",
        "# Loop through each CSV file and concatenate the data to the main DataFrame\n",
        "for csv_file in csv_files:\n",
        "    file_path = os.path.join(folder_path, csv_file)\n",
        "    temp_df = pd.read_csv(file_path)\n",
        "    data = pd.concat([data, temp_df], ignore_index=True)\n",
        "\n"
      ],
      "metadata": {
        "id": "gKStUSDXknc_"
      },
      "execution_count": 11,
      "outputs": []
    },
    {
      "cell_type": "code",
      "source": [
        "data.info()"
      ],
      "metadata": {
        "colab": {
          "base_uri": "https://localhost:8080/"
        },
        "id": "eF49j7s-k62-",
        "outputId": "abf14740-1d32-401b-957d-bea8aa59e30b"
      },
      "execution_count": 12,
      "outputs": [
        {
          "output_type": "stream",
          "name": "stdout",
          "text": [
            "<class 'pandas.core.frame.DataFrame'>\n",
            "RangeIndex: 195803 entries, 0 to 195802\n",
            "Data columns (total 47 columns):\n",
            " #   Column           Non-Null Count   Dtype  \n",
            "---  ------           --------------   -----  \n",
            " 0   flow_duration    195803 non-null  float64\n",
            " 1   Header_Length    195802 non-null  float64\n",
            " 2   Protocol Type    195801 non-null  float64\n",
            " 3   Duration         195801 non-null  float64\n",
            " 4   Rate             195801 non-null  float64\n",
            " 5   Srate            195800 non-null  float64\n",
            " 6   Drate            195800 non-null  float64\n",
            " 7   fin_flag_number  195800 non-null  float64\n",
            " 8   syn_flag_number  195800 non-null  float64\n",
            " 9   rst_flag_number  195800 non-null  float64\n",
            " 10  psh_flag_number  195800 non-null  float64\n",
            " 11  ack_flag_number  195800 non-null  float64\n",
            " 12  ece_flag_number  195800 non-null  float64\n",
            " 13  cwr_flag_number  195800 non-null  float64\n",
            " 14  ack_count        195799 non-null  float64\n",
            " 15  syn_count        195799 non-null  float64\n",
            " 16  fin_count        195799 non-null  float64\n",
            " 17  urg_count        195799 non-null  float64\n",
            " 18  rst_count        195798 non-null  float64\n",
            " 19  HTTP             195798 non-null  float64\n",
            " 20  HTTPS            195797 non-null  float64\n",
            " 21  DNS              195797 non-null  float64\n",
            " 22  Telnet           195797 non-null  float64\n",
            " 23  SMTP             195797 non-null  float64\n",
            " 24  SSH              195797 non-null  float64\n",
            " 25  IRC              195797 non-null  float64\n",
            " 26  TCP              195797 non-null  float64\n",
            " 27  UDP              195797 non-null  float64\n",
            " 28  DHCP             195796 non-null  float64\n",
            " 29  ARP              195796 non-null  float64\n",
            " 30  ICMP             195796 non-null  float64\n",
            " 31  IPv              195796 non-null  float64\n",
            " 32  LLC              195796 non-null  float64\n",
            " 33  Tot sum          195796 non-null  float64\n",
            " 34  Min              195796 non-null  float64\n",
            " 35  Max              195796 non-null  float64\n",
            " 36  AVG              195796 non-null  float64\n",
            " 37  Std              195796 non-null  float64\n",
            " 38  Tot size         195796 non-null  float64\n",
            " 39  IAT              195796 non-null  float64\n",
            " 40  Number           195794 non-null  float64\n",
            " 41  Magnitue         195794 non-null  float64\n",
            " 42  Radius           195792 non-null  float64\n",
            " 43  Covariance       195791 non-null  float64\n",
            " 44  Variance         195791 non-null  float64\n",
            " 45  Weight           195791 non-null  float64\n",
            " 46  label            195790 non-null  object \n",
            "dtypes: float64(46), object(1)\n",
            "memory usage: 70.2+ MB\n"
          ]
        }
      ]
    },
    {
      "cell_type": "code",
      "source": [
        "print(data['label'].nunique())"
      ],
      "metadata": {
        "colab": {
          "base_uri": "https://localhost:8080/"
        },
        "id": "T6qEK4WplAtG",
        "outputId": "1c0d52e2-2f4d-43ab-e797-2c8e2f34cb27"
      },
      "execution_count": 13,
      "outputs": [
        {
          "output_type": "stream",
          "name": "stdout",
          "text": [
            "34\n"
          ]
        }
      ]
    },
    {
      "cell_type": "code",
      "source": [
        "print(data['label'].unique())"
      ],
      "metadata": {
        "colab": {
          "base_uri": "https://localhost:8080/"
        },
        "id": "apjY0bcSlJme",
        "outputId": "2c8f161b-59f7-4a30-b20e-a53103770949"
      },
      "execution_count": 14,
      "outputs": [
        {
          "output_type": "stream",
          "name": "stdout",
          "text": [
            "['DDoS-SYN_Flood' 'DDoS-PSHACK_Flood' 'DDoS-ICMP_Flood' 'DDoS-TCP_Flood'\n",
            " 'DDoS-SynonymousIP_Flood' 'BenignTraffic' 'DDoS-RSTFINFlood'\n",
            " 'DoS-SYN_Flood' 'DDoS-UDP_Flood' 'Mirai-greip_flood'\n",
            " 'DDoS-UDP_Fragmentation' 'DoS-UDP_Flood' 'Mirai-udpplain'\n",
            " 'MITM-ArpSpoofing' 'DoS-TCP_Flood' 'DNS_Spoofing' 'Mirai-greeth_flood'\n",
            " 'DDoS-ACK_Fragmentation' 'DDoS-ICMP_Fragmentation' 'Recon-OSScan'\n",
            " 'Recon-HostDiscovery' 'DoS-HTTP_Flood' 'VulnerabilityScan'\n",
            " 'Recon-PortScan' 'DictionaryBruteForce' 'DDoS-SlowLoris'\n",
            " 'DDoS-HTTP_Flood' 'CommandInjection' 'SqlInjection' 'BrowserHijacking'\n",
            " nan 'XSS' 'Backdoor_Malware' 'Recon-PingSweep' 'Uploading_Attack']\n"
          ]
        }
      ]
    },
    {
      "cell_type": "code",
      "source": [
        "total_nan_rows = data[data['label'].isna()].shape[0]\n",
        "\n",
        "print(\"Total rows with NaN as label:\", total_nan_rows)"
      ],
      "metadata": {
        "colab": {
          "base_uri": "https://localhost:8080/"
        },
        "id": "9StVruevOWrB",
        "outputId": "27b3e852-185b-4e10-8cdf-a1af19366ecc"
      },
      "execution_count": 15,
      "outputs": [
        {
          "output_type": "stream",
          "name": "stdout",
          "text": [
            "Total rows with NaN as label: 13\n"
          ]
        }
      ]
    },
    {
      "cell_type": "code",
      "source": [
        "# Remove rows with NaN in the 'label' column\n",
        "data = data.dropna(subset=['label'])"
      ],
      "metadata": {
        "id": "kX85Lo6QOcZa"
      },
      "execution_count": 18,
      "outputs": []
    },
    {
      "cell_type": "code",
      "source": [
        "data.info()"
      ],
      "metadata": {
        "colab": {
          "base_uri": "https://localhost:8080/"
        },
        "id": "1W90_zhLOlvq",
        "outputId": "02e3cb11-f854-47b3-f616-220c2e497634"
      },
      "execution_count": 19,
      "outputs": [
        {
          "output_type": "stream",
          "name": "stdout",
          "text": [
            "<class 'pandas.core.frame.DataFrame'>\n",
            "Int64Index: 195790 entries, 0 to 195801\n",
            "Data columns (total 47 columns):\n",
            " #   Column           Non-Null Count   Dtype  \n",
            "---  ------           --------------   -----  \n",
            " 0   flow_duration    195790 non-null  float64\n",
            " 1   Header_Length    195790 non-null  float64\n",
            " 2   Protocol Type    195790 non-null  float64\n",
            " 3   Duration         195790 non-null  float64\n",
            " 4   Rate             195790 non-null  float64\n",
            " 5   Srate            195790 non-null  float64\n",
            " 6   Drate            195790 non-null  float64\n",
            " 7   fin_flag_number  195790 non-null  float64\n",
            " 8   syn_flag_number  195790 non-null  float64\n",
            " 9   rst_flag_number  195790 non-null  float64\n",
            " 10  psh_flag_number  195790 non-null  float64\n",
            " 11  ack_flag_number  195790 non-null  float64\n",
            " 12  ece_flag_number  195790 non-null  float64\n",
            " 13  cwr_flag_number  195790 non-null  float64\n",
            " 14  ack_count        195790 non-null  float64\n",
            " 15  syn_count        195790 non-null  float64\n",
            " 16  fin_count        195790 non-null  float64\n",
            " 17  urg_count        195790 non-null  float64\n",
            " 18  rst_count        195790 non-null  float64\n",
            " 19  HTTP             195790 non-null  float64\n",
            " 20  HTTPS            195790 non-null  float64\n",
            " 21  DNS              195790 non-null  float64\n",
            " 22  Telnet           195790 non-null  float64\n",
            " 23  SMTP             195790 non-null  float64\n",
            " 24  SSH              195790 non-null  float64\n",
            " 25  IRC              195790 non-null  float64\n",
            " 26  TCP              195790 non-null  float64\n",
            " 27  UDP              195790 non-null  float64\n",
            " 28  DHCP             195790 non-null  float64\n",
            " 29  ARP              195790 non-null  float64\n",
            " 30  ICMP             195790 non-null  float64\n",
            " 31  IPv              195790 non-null  float64\n",
            " 32  LLC              195790 non-null  float64\n",
            " 33  Tot sum          195790 non-null  float64\n",
            " 34  Min              195790 non-null  float64\n",
            " 35  Max              195790 non-null  float64\n",
            " 36  AVG              195790 non-null  float64\n",
            " 37  Std              195790 non-null  float64\n",
            " 38  Tot size         195790 non-null  float64\n",
            " 39  IAT              195790 non-null  float64\n",
            " 40  Number           195790 non-null  float64\n",
            " 41  Magnitue         195790 non-null  float64\n",
            " 42  Radius           195790 non-null  float64\n",
            " 43  Covariance       195790 non-null  float64\n",
            " 44  Variance         195790 non-null  float64\n",
            " 45  Weight           195790 non-null  float64\n",
            " 46  label            195790 non-null  object \n",
            "dtypes: float64(46), object(1)\n",
            "memory usage: 71.7+ MB\n"
          ]
        }
      ]
    },
    {
      "cell_type": "code",
      "source": [
        "print(data['label'].nunique())"
      ],
      "metadata": {
        "colab": {
          "base_uri": "https://localhost:8080/"
        },
        "id": "rI-zyxXfO4qW",
        "outputId": "97a6f045-b2c4-48c2-f296-3327df25b84b"
      },
      "execution_count": 20,
      "outputs": [
        {
          "output_type": "stream",
          "name": "stdout",
          "text": [
            "34\n"
          ]
        }
      ]
    },
    {
      "cell_type": "code",
      "source": [
        "print(data['label'].unique())"
      ],
      "metadata": {
        "colab": {
          "base_uri": "https://localhost:8080/"
        },
        "id": "f3bn2WhPOzGY",
        "outputId": "f65a2ce4-6f69-4a0d-98c1-bb6d22ccef7a"
      },
      "execution_count": 21,
      "outputs": [
        {
          "output_type": "stream",
          "name": "stdout",
          "text": [
            "['DDoS-SYN_Flood' 'DDoS-PSHACK_Flood' 'DDoS-ICMP_Flood' 'DDoS-TCP_Flood'\n",
            " 'DDoS-SynonymousIP_Flood' 'BenignTraffic' 'DDoS-RSTFINFlood'\n",
            " 'DoS-SYN_Flood' 'DDoS-UDP_Flood' 'Mirai-greip_flood'\n",
            " 'DDoS-UDP_Fragmentation' 'DoS-UDP_Flood' 'Mirai-udpplain'\n",
            " 'MITM-ArpSpoofing' 'DoS-TCP_Flood' 'DNS_Spoofing' 'Mirai-greeth_flood'\n",
            " 'DDoS-ACK_Fragmentation' 'DDoS-ICMP_Fragmentation' 'Recon-OSScan'\n",
            " 'Recon-HostDiscovery' 'DoS-HTTP_Flood' 'VulnerabilityScan'\n",
            " 'Recon-PortScan' 'DictionaryBruteForce' 'DDoS-SlowLoris'\n",
            " 'DDoS-HTTP_Flood' 'CommandInjection' 'SqlInjection' 'BrowserHijacking'\n",
            " 'XSS' 'Backdoor_Malware' 'Recon-PingSweep' 'Uploading_Attack']\n"
          ]
        }
      ]
    },
    {
      "cell_type": "code",
      "source": [
        "total_nan_rows = data[data['label'].isna()].shape[0]\n",
        "\n",
        "print(\"Total rows with NaN as label:\", total_nan_rows)"
      ],
      "metadata": {
        "colab": {
          "base_uri": "https://localhost:8080/"
        },
        "id": "Y8YRLlEHPbUM",
        "outputId": "ad60fab1-ea27-45fd-bbef-b9d4f7f1af51"
      },
      "execution_count": 22,
      "outputs": [
        {
          "output_type": "stream",
          "name": "stdout",
          "text": [
            "Total rows with NaN as label: 0\n"
          ]
        }
      ]
    },
    {
      "cell_type": "markdown",
      "source": [
        "# Classifying Anomaly as 1 and Non-Anomaly as 0"
      ],
      "metadata": {
        "id": "2-7MextVmVUq"
      }
    },
    {
      "cell_type": "markdown",
      "source": [
        "The label feature has 34/35 different values originally which are classified as different types of anomaly but the BenignTraffic  meaning that NON-Anomaly. Hence we will assign the BenignTraffic values in the dataset as 0 and Anomaly values as 1."
      ],
      "metadata": {
        "id": "O6KZ0dLEme9c"
      }
    },
    {
      "cell_type": "code",
      "source": [
        "# Assuming your DataFrame is named df\n",
        "binary_mapping = {'BenignTraffic': 0, 'DDoS-SYN_Flood': 1, 'DDoS-PSHACK_Flood': 1, 'DDoS-ICMP_Flood': 1,\n",
        "                  'DDoS-TCP_Flood': 1, 'DDoS-SynonymousIP_Flood': 1, 'DDoS-RSTFINFlood': 1,\n",
        "                  'DoS-SYN_Flood': 1, 'DDoS-UDP_Flood': 1, 'Mirai-greip_flood': 1,\n",
        "                  'DDoS-UDP_Fragmentation': 1, 'DoS-UDP_Flood': 1, 'Mirai-udpplain': 1,\n",
        "                  'MITM-ArpSpoofing': 1, 'DoS-TCP_Flood': 1, 'DNS_Spoofing': 1,\n",
        "                  'Mirai-greeth_flood': 1, 'DDoS-ACK_Fragmentation': 1, 'DDoS-ICMP_Fragmentation': 1,\n",
        "                  'Recon-OSScan': 1, 'Recon-HostDiscovery': 1, 'DoS-HTTP_Flood': 1,\n",
        "                  'VulnerabilityScan': 1, 'Recon-PortScan': 1, 'DictionaryBruteForce': 1,\n",
        "                  'DDoS-SlowLoris': 1, 'DDoS-HTTP_Flood': 1, 'CommandInjection': 1,\n",
        "                  'SqlInjection': 1, 'BrowserHijacking': 1, 'XSS': 1, 'Backdoor_Malware': 1,\n",
        "                  'Recon-PingSweep': 1, 'Uploading_Attack': 1}\n",
        "\n",
        "# Map the values in the 'label' column using the binary_mapping\n",
        "data['label'] = data['label'].map(binary_mapping).fillna(1).astype(int)\n"
      ],
      "metadata": {
        "id": "eHjGqklPmFmZ"
      },
      "execution_count": 23,
      "outputs": []
    },
    {
      "cell_type": "code",
      "source": [
        "print(data['label'].nunique())"
      ],
      "metadata": {
        "colab": {
          "base_uri": "https://localhost:8080/"
        },
        "id": "t1ZAt7txmMTq",
        "outputId": "d2bb6ba9-4618-4918-8d57-3fbb79595782"
      },
      "execution_count": 24,
      "outputs": [
        {
          "output_type": "stream",
          "name": "stdout",
          "text": [
            "2\n"
          ]
        }
      ]
    },
    {
      "cell_type": "code",
      "source": [
        "print(data['label'].unique())"
      ],
      "metadata": {
        "colab": {
          "base_uri": "https://localhost:8080/"
        },
        "id": "yw57eoy1mOrY",
        "outputId": "1ef5acb5-7cac-4b21-eb4d-87495c0c9dc9"
      },
      "execution_count": 25,
      "outputs": [
        {
          "output_type": "stream",
          "name": "stdout",
          "text": [
            "[1 0]\n"
          ]
        }
      ]
    },
    {
      "cell_type": "code",
      "source": [
        "total_benign_traffic_rows = data[data['label'] == 0].shape[0]\n",
        "\n",
        "print(\"Total rows with label 'BenignTaffic' :\", total_benign_traffic_rows)\n"
      ],
      "metadata": {
        "colab": {
          "base_uri": "https://localhost:8080/"
        },
        "id": "PDCqIDeRaIPY",
        "outputId": "54945823-efba-47d7-c6e8-608e7ddc895f"
      },
      "execution_count": 46,
      "outputs": [
        {
          "output_type": "stream",
          "name": "stdout",
          "text": [
            "Total rows with label 'DDoS-TCP_Flood': 4578\n"
          ]
        }
      ]
    },
    {
      "cell_type": "markdown",
      "source": [
        "# Model Training"
      ],
      "metadata": {
        "id": "IuxrcP-rSVTe"
      }
    },
    {
      "cell_type": "code",
      "source": [
        "from sklearn.model_selection import train_test_split\n",
        "X = data.drop(\"label\", axis=1)\n",
        "Y = data[\"label\"]\n",
        "X_train, X_test, Y_train, Y_test = train_test_split(X,Y,test_size=0.2,random_state=42)"
      ],
      "metadata": {
        "id": "A0BT-0s1SU9p"
      },
      "execution_count": 33,
      "outputs": []
    },
    {
      "cell_type": "code",
      "source": [
        "print(X_train.shape)\n",
        "print(X_test.shape)\n",
        "print(Y_train.shape)\n",
        "print(Y_test.shape)"
      ],
      "metadata": {
        "colab": {
          "base_uri": "https://localhost:8080/"
        },
        "id": "h55emN0KUFOh",
        "outputId": "b84c9a35-2699-4c07-a895-f6cc719937f7"
      },
      "execution_count": 34,
      "outputs": [
        {
          "output_type": "stream",
          "name": "stdout",
          "text": [
            "(156632, 46)\n",
            "(39158, 46)\n",
            "(156632,)\n",
            "(39158,)\n"
          ]
        }
      ]
    },
    {
      "cell_type": "code",
      "source": [
        "from sklearn.linear_model import LogisticRegression\n",
        "\n",
        "logistic_regression_model = LogisticRegression(n_jobs=-1)\n",
        "logistic_regression_model.fit(X_train, Y_train)\n",
        "Y_pred = logistic_regression_model.predict(X_test)\n"
      ],
      "metadata": {
        "id": "THKoUcuEVUGN"
      },
      "execution_count": 36,
      "outputs": []
    },
    {
      "cell_type": "markdown",
      "source": [
        "# Model Evaluation"
      ],
      "metadata": {
        "id": "kzX_dnbmVmGd"
      }
    },
    {
      "cell_type": "code",
      "source": [
        "from sklearn.metrics import accuracy_score, recall_score, precision_score, f1_score\n",
        "\n",
        "# Evaluate the model\n",
        "print(\"Accuracy:\", accuracy_score(Y_test, Y_pred))\n",
        "print(\"Recall:\", recall_score(Y_test, Y_pred, average='macro'))\n",
        "print(\"Precision:\", precision_score(Y_test, Y_pred, average='macro'))\n",
        "print(\"F1 Score:\", f1_score(Y_test, Y_pred, average='macro'))"
      ],
      "metadata": {
        "colab": {
          "base_uri": "https://localhost:8080/"
        },
        "id": "IWriZJiCVlDv",
        "outputId": "5f6d2aa2-5ea4-4e60-df55-48131dfdf431"
      },
      "execution_count": 37,
      "outputs": [
        {
          "output_type": "stream",
          "name": "stdout",
          "text": [
            "Accuracy: 0.9791102712089483\n",
            "Recall: 0.7679186891468455\n",
            "Precision: 0.7644333230044122\n",
            "F1 Score: 0.7661637911210517\n"
          ]
        }
      ]
    },
    {
      "cell_type": "markdown",
      "source": [
        "# Confusion Matrix"
      ],
      "metadata": {
        "id": "ORprGHYqWVFj"
      }
    },
    {
      "cell_type": "code",
      "source": [
        "from sklearn.metrics import confusion_matrix, ConfusionMatrixDisplay\n",
        "\n",
        "cm = confusion_matrix(Y_test, Y_pred, labels=logistic_regression_model.classes_)\n",
        "disp = ConfusionMatrixDisplay(confusion_matrix=cm, display_labels=logistic_regression_model.classes_)\n",
        "disp.plot()\n",
        "plt.show()\n"
      ],
      "metadata": {
        "colab": {
          "base_uri": "https://localhost:8080/",
          "height": 449
        },
        "id": "iVoPWqrnWY-a",
        "outputId": "0e9184a2-1ba4-428a-db4a-4d03818877fb"
      },
      "execution_count": 40,
      "outputs": [
        {
          "output_type": "display_data",
          "data": {
            "text/plain": [
              "<Figure size 640x480 with 2 Axes>"
            ],
            "image/png": "[encoded data removed]"
          },
          "metadata": {}
        }
      ]
    }
  ]
}