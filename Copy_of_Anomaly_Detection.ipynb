{
  "nbformat": 4,
  "nbformat_minor": 0,
  "metadata": {
    "colab": {
      "provenance": [],
      "gpuType": "T4",
      "authorship_tag": "ABX9TyNx5r3ki4jIu1fm5kIqOXRx",
      "include_colab_link": true
    },
    "kernelspec": {
      "name": "python3",
      "display_name": "Python 3"
    },
    "language_info": {
      "name": "python"
    },
    "accelerator": "GPU"
  },
  "cells": [
    {
      "cell_type": "markdown",
      "metadata": {
        "id": "view-in-github",
        "colab_type": "text"
      },
      "source": [
        "<a href=\"https://colab.research.google.com/github/Faareh-Ahmed/Anomaly-Detection/blob/main/Copy_of_Anomaly_Detection.ipynb\" target=\"_parent\"><img src=\"https://colab.research.google.com/assets/colab-badge.svg\" alt=\"Open In Colab\"/></a>"
      ]
    },
    {
      "cell_type": "code",
      "source": [
        "import pandas as pd\n",
        "import numpy as np\n",
        "import seaborn as ssn\n",
        "import matplotlib.pyplot as plt\n",
        "import pandas as pd\n",
        "import os"
      ],
      "metadata": {
        "id": "EoJOAm8Rujex"
      },
      "execution_count": 3,
      "outputs": []
    },
    {
      "cell_type": "markdown",
      "source": [
        "# Storing the dataset"
      ],
      "metadata": {
        "id": "Xjm5CxiokjkD"
      }
    },
    {
      "cell_type": "code",
      "source": [
        "\n",
        "folder_path = '/content/sample_data/CICIoTdataset'\n",
        "\n",
        "# Get a list of all CSV files in the specified folder\n",
        "csv_files = [file for file in os.listdir(folder_path) if file.endswith('.csv')]\n",
        "\n",
        "# Initialize an empty DataFrame\n",
        "data = pd.DataFrame()\n",
        "\n",
        "# Loop through each CSV file and concatenate the data to the main DataFrame\n",
        "for csv_file in csv_files:\n",
        "    file_path = os.path.join(folder_path, csv_file)\n",
        "    temp_df = pd.read_csv(file_path)\n",
        "    data = pd.concat([data, temp_df], ignore_index=True)\n",
        "\n"
      ],
      "metadata": {
        "id": "gKStUSDXknc_"
      },
      "execution_count": 4,
      "outputs": []
    },
    {
      "cell_type": "code",
      "source": [
        "data.info()"
      ],
      "metadata": {
        "colab": {
          "base_uri": "https://localhost:8080/"
        },
        "id": "eF49j7s-k62-",
        "outputId": "fbe3a429-7d97-4cc5-e25b-8dae5ed1d8ba"
      },
      "execution_count": 5,
      "outputs": [
        {
          "output_type": "stream",
          "name": "stdout",
          "text": [
            "<class 'pandas.core.frame.DataFrame'>\n",
            "RangeIndex: 505353 entries, 0 to 505352\n",
            "Data columns (total 47 columns):\n",
            " #   Column           Non-Null Count   Dtype  \n",
            "---  ------           --------------   -----  \n",
            " 0   flow_duration    505353 non-null  float64\n",
            " 1   Header_Length    505353 non-null  float64\n",
            " 2   Protocol Type    505350 non-null  float64\n",
            " 3   Duration         505350 non-null  float64\n",
            " 4   Rate             505349 non-null  float64\n",
            " 5   Srate            505347 non-null  float64\n",
            " 6   Drate            505343 non-null  float64\n",
            " 7   fin_flag_number  505343 non-null  float64\n",
            " 8   syn_flag_number  505343 non-null  float64\n",
            " 9   rst_flag_number  505340 non-null  float64\n",
            " 10  psh_flag_number  505339 non-null  float64\n",
            " 11  ack_flag_number  505339 non-null  float64\n",
            " 12  ece_flag_number  505338 non-null  float64\n",
            " 13  cwr_flag_number  505338 non-null  float64\n",
            " 14  ack_count        505338 non-null  float64\n",
            " 15  syn_count        505338 non-null  float64\n",
            " 16  fin_count        505338 non-null  float64\n",
            " 17  urg_count        505337 non-null  float64\n",
            " 18  rst_count        505336 non-null  float64\n",
            " 19  HTTP             505336 non-null  float64\n",
            " 20  HTTPS            505336 non-null  float64\n",
            " 21  DNS              505336 non-null  float64\n",
            " 22  Telnet           505335 non-null  float64\n",
            " 23  SMTP             505334 non-null  float64\n",
            " 24  SSH              505332 non-null  float64\n",
            " 25  IRC              505332 non-null  float64\n",
            " 26  TCP              505332 non-null  float64\n",
            " 27  UDP              505331 non-null  float64\n",
            " 28  DHCP             505330 non-null  float64\n",
            " 29  ARP              505330 non-null  float64\n",
            " 30  ICMP             505330 non-null  float64\n",
            " 31  IPv              505329 non-null  float64\n",
            " 32  LLC              505329 non-null  float64\n",
            " 33  Tot sum          505329 non-null  float64\n",
            " 34  Min              505328 non-null  float64\n",
            " 35  Max              505327 non-null  float64\n",
            " 36  AVG              505326 non-null  float64\n",
            " 37  Std              505325 non-null  float64\n",
            " 38  Tot size         505324 non-null  float64\n",
            " 39  IAT              505324 non-null  float64\n",
            " 40  Number           505320 non-null  float64\n",
            " 41  Magnitue         505320 non-null  float64\n",
            " 42  Radius           505319 non-null  float64\n",
            " 43  Covariance       505319 non-null  float64\n",
            " 44  Variance         505319 non-null  float64\n",
            " 45  Weight           505319 non-null  float64\n",
            " 46  label            505317 non-null  object \n",
            "dtypes: float64(46), object(1)\n",
            "memory usage: 181.2+ MB\n"
          ]
        }
      ]
    },
    {
      "cell_type": "code",
      "source": [
        "print(data['label'].nunique())"
      ],
      "metadata": {
        "colab": {
          "base_uri": "https://localhost:8080/"
        },
        "id": "T6qEK4WplAtG",
        "outputId": "94f65419-4c08-4364-b9ae-e9b8fea0724b"
      },
      "execution_count": 6,
      "outputs": [
        {
          "output_type": "stream",
          "name": "stdout",
          "text": [
            "34\n"
          ]
        }
      ]
    },
    {
      "cell_type": "code",
      "source": [
        "print(data['label'].unique())"
      ],
      "metadata": {
        "colab": {
          "base_uri": "https://localhost:8080/"
        },
        "id": "apjY0bcSlJme",
        "outputId": "6748721b-ac95-42ae-80e2-5cd923800ee1"
      },
      "execution_count": 7,
      "outputs": [
        {
          "output_type": "stream",
          "name": "stdout",
          "text": [
            "['BenignTraffic' 'DDoS-SynonymousIP_Flood' 'DDoS-ICMP_Flood'\n",
            " 'DoS-UDP_Flood' 'DoS-TCP_Flood' 'DoS-SYN_Flood' 'Mirai-greip_flood'\n",
            " 'DDoS-UDP_Flood' 'DDoS-PSHACK_Flood' 'DDoS-TCP_Flood'\n",
            " 'Mirai-greeth_flood' 'DDoS-RSTFINFlood' 'Mirai-udpplain' 'DDoS-SYN_Flood'\n",
            " 'DDoS-UDP_Fragmentation' 'DDoS-ICMP_Fragmentation' 'MITM-ArpSpoofing'\n",
            " 'Recon-HostDiscovery' 'Recon-PortScan' 'DNS_Spoofing'\n",
            " 'DDoS-ACK_Fragmentation' 'DoS-HTTP_Flood' 'Backdoor_Malware'\n",
            " 'Recon-OSScan' 'VulnerabilityScan' 'DDoS-HTTP_Flood'\n",
            " 'DictionaryBruteForce' 'Recon-PingSweep' 'DDoS-SlowLoris'\n",
            " 'CommandInjection' 'SqlInjection' 'BrowserHijacking' nan 'XSS'\n",
            " 'Uploading_Attack']\n"
          ]
        }
      ]
    },
    {
      "cell_type": "code",
      "source": [
        "total_nan_rows = data[data['label'].isna()].shape[0]\n",
        "\n",
        "print(\"Total rows with NaN as label:\", total_nan_rows)"
      ],
      "metadata": {
        "colab": {
          "base_uri": "https://localhost:8080/"
        },
        "id": "9StVruevOWrB",
        "outputId": "f84ac45d-141d-4fff-99d2-0e8bfafa89dd"
      },
      "execution_count": 8,
      "outputs": [
        {
          "output_type": "stream",
          "name": "stdout",
          "text": [
            "Total rows with NaN as label: 36\n"
          ]
        }
      ]
    },
    {
      "cell_type": "code",
      "source": [
        "# Remove rows with NaN in the 'label' column\n",
        "data = data.dropna(subset=['label'])"
      ],
      "metadata": {
        "id": "kX85Lo6QOcZa"
      },
      "execution_count": 9,
      "outputs": []
    },
    {
      "cell_type": "code",
      "source": [
        "data.info()"
      ],
      "metadata": {
        "colab": {
          "base_uri": "https://localhost:8080/"
        },
        "id": "1W90_zhLOlvq",
        "outputId": "d77912bb-03c3-4355-e290-f1412dfdcfcc"
      },
      "execution_count": 10,
      "outputs": [
        {
          "output_type": "stream",
          "name": "stdout",
          "text": [
            "<class 'pandas.core.frame.DataFrame'>\n",
            "Int64Index: 505317 entries, 0 to 505351\n",
            "Data columns (total 47 columns):\n",
            " #   Column           Non-Null Count   Dtype  \n",
            "---  ------           --------------   -----  \n",
            " 0   flow_duration    505317 non-null  float64\n",
            " 1   Header_Length    505317 non-null  float64\n",
            " 2   Protocol Type    505317 non-null  float64\n",
            " 3   Duration         505317 non-null  float64\n",
            " 4   Rate             505317 non-null  float64\n",
            " 5   Srate            505317 non-null  float64\n",
            " 6   Drate            505317 non-null  float64\n",
            " 7   fin_flag_number  505317 non-null  float64\n",
            " 8   syn_flag_number  505317 non-null  float64\n",
            " 9   rst_flag_number  505317 non-null  float64\n",
            " 10  psh_flag_number  505317 non-null  float64\n",
            " 11  ack_flag_number  505317 non-null  float64\n",
            " 12  ece_flag_number  505317 non-null  float64\n",
            " 13  cwr_flag_number  505317 non-null  float64\n",
            " 14  ack_count        505317 non-null  float64\n",
            " 15  syn_count        505317 non-null  float64\n",
            " 16  fin_count        505317 non-null  float64\n",
            " 17  urg_count        505317 non-null  float64\n",
            " 18  rst_count        505317 non-null  float64\n",
            " 19  HTTP             505317 non-null  float64\n",
            " 20  HTTPS            505317 non-null  float64\n",
            " 21  DNS              505317 non-null  float64\n",
            " 22  Telnet           505317 non-null  float64\n",
            " 23  SMTP             505317 non-null  float64\n",
            " 24  SSH              505317 non-null  float64\n",
            " 25  IRC              505317 non-null  float64\n",
            " 26  TCP              505317 non-null  float64\n",
            " 27  UDP              505317 non-null  float64\n",
            " 28  DHCP             505317 non-null  float64\n",
            " 29  ARP              505317 non-null  float64\n",
            " 30  ICMP             505317 non-null  float64\n",
            " 31  IPv              505317 non-null  float64\n",
            " 32  LLC              505317 non-null  float64\n",
            " 33  Tot sum          505317 non-null  float64\n",
            " 34  Min              505317 non-null  float64\n",
            " 35  Max              505317 non-null  float64\n",
            " 36  AVG              505317 non-null  float64\n",
            " 37  Std              505317 non-null  float64\n",
            " 38  Tot size         505317 non-null  float64\n",
            " 39  IAT              505317 non-null  float64\n",
            " 40  Number           505317 non-null  float64\n",
            " 41  Magnitue         505317 non-null  float64\n",
            " 42  Radius           505317 non-null  float64\n",
            " 43  Covariance       505317 non-null  float64\n",
            " 44  Variance         505317 non-null  float64\n",
            " 45  Weight           505317 non-null  float64\n",
            " 46  label            505317 non-null  object \n",
            "dtypes: float64(46), object(1)\n",
            "memory usage: 185.1+ MB\n"
          ]
        }
      ]
    },
    {
      "cell_type": "code",
      "source": [
        "print(data['label'].nunique())"
      ],
      "metadata": {
        "colab": {
          "base_uri": "https://localhost:8080/"
        },
        "id": "rI-zyxXfO4qW",
        "outputId": "65aad207-3a98-4109-a6b6-6960e56b4019"
      },
      "execution_count": 11,
      "outputs": [
        {
          "output_type": "stream",
          "name": "stdout",
          "text": [
            "34\n"
          ]
        }
      ]
    },
    {
      "cell_type": "code",
      "source": [
        "print(data['label'].unique())"
      ],
      "metadata": {
        "colab": {
          "base_uri": "https://localhost:8080/"
        },
        "id": "f3bn2WhPOzGY",
        "outputId": "c1ac6595-3dfb-450b-c092-35166e79c758"
      },
      "execution_count": 12,
      "outputs": [
        {
          "output_type": "stream",
          "name": "stdout",
          "text": [
            "['BenignTraffic' 'DDoS-SynonymousIP_Flood' 'DDoS-ICMP_Flood'\n",
            " 'DoS-UDP_Flood' 'DoS-TCP_Flood' 'DoS-SYN_Flood' 'Mirai-greip_flood'\n",
            " 'DDoS-UDP_Flood' 'DDoS-PSHACK_Flood' 'DDoS-TCP_Flood'\n",
            " 'Mirai-greeth_flood' 'DDoS-RSTFINFlood' 'Mirai-udpplain' 'DDoS-SYN_Flood'\n",
            " 'DDoS-UDP_Fragmentation' 'DDoS-ICMP_Fragmentation' 'MITM-ArpSpoofing'\n",
            " 'Recon-HostDiscovery' 'Recon-PortScan' 'DNS_Spoofing'\n",
            " 'DDoS-ACK_Fragmentation' 'DoS-HTTP_Flood' 'Backdoor_Malware'\n",
            " 'Recon-OSScan' 'VulnerabilityScan' 'DDoS-HTTP_Flood'\n",
            " 'DictionaryBruteForce' 'Recon-PingSweep' 'DDoS-SlowLoris'\n",
            " 'CommandInjection' 'SqlInjection' 'BrowserHijacking' 'XSS'\n",
            " 'Uploading_Attack']\n"
          ]
        }
      ]
    },
    {
      "cell_type": "code",
      "source": [
        "total_nan_rows = data[data['label'].isna()].shape[0]\n",
        "\n",
        "print(\"Total rows with NaN as label:\", total_nan_rows)"
      ],
      "metadata": {
        "colab": {
          "base_uri": "https://localhost:8080/"
        },
        "id": "Y8YRLlEHPbUM",
        "outputId": "58aadb06-96f6-4213-8db3-f44f550db664"
      },
      "execution_count": 13,
      "outputs": [
        {
          "output_type": "stream",
          "name": "stdout",
          "text": [
            "Total rows with NaN as label: 0\n"
          ]
        }
      ]
    },
    {
      "cell_type": "markdown",
      "source": [
        "# Classifying Anomaly as 1 and Non-Anomaly as 0"
      ],
      "metadata": {
        "id": "2-7MextVmVUq"
      }
    },
    {
      "cell_type": "markdown",
      "source": [
        "The label feature has 34/35 different values originally which are classified as different types of anomaly but the BenignTraffic  meaning that NON-Anomaly. Hence we will assign the BenignTraffic values in the dataset as 0 and Anomaly values as 1."
      ],
      "metadata": {
        "id": "O6KZ0dLEme9c"
      }
    },
    {
      "cell_type": "code",
      "source": [
        "# Assuming your DataFrame is named df\n",
        "binary_mapping = {'BenignTraffic': 0, 'DDoS-SYN_Flood': 1, 'DDoS-PSHACK_Flood': 1, 'DDoS-ICMP_Flood': 1,\n",
        "                  'DDoS-TCP_Flood': 1, 'DDoS-SynonymousIP_Flood': 1, 'DDoS-RSTFINFlood': 1,\n",
        "                  'DoS-SYN_Flood': 1, 'DDoS-UDP_Flood': 1, 'Mirai-greip_flood': 1,\n",
        "                  'DDoS-UDP_Fragmentation': 1, 'DoS-UDP_Flood': 1, 'Mirai-udpplain': 1,\n",
        "                  'MITM-ArpSpoofing': 1, 'DoS-TCP_Flood': 1, 'DNS_Spoofing': 1,\n",
        "                  'Mirai-greeth_flood': 1, 'DDoS-ACK_Fragmentation': 1, 'DDoS-ICMP_Fragmentation': 1,\n",
        "                  'Recon-OSScan': 1, 'Recon-HostDiscovery': 1, 'DoS-HTTP_Flood': 1,\n",
        "                  'VulnerabilityScan': 1, 'Recon-PortScan': 1, 'DictionaryBruteForce': 1,\n",
        "                  'DDoS-SlowLoris': 1, 'DDoS-HTTP_Flood': 1, 'CommandInjection': 1,\n",
        "                  'SqlInjection': 1, 'BrowserHijacking': 1, 'XSS': 1, 'Backdoor_Malware': 1,\n",
        "                  'Recon-PingSweep': 1, 'Uploading_Attack': 1, 'DDoS-SynonymousIP': 1, 'DD': 1, 'DDoS-': 1,\n",
        "                  'DoS-UDP_Flo': 1, 'DDoS': 1 }\n",
        "\n",
        "# Map the values in the 'label' column using the binary_mapping\n",
        "data['label'] = data['label'].map(binary_mapping).fillna(1).astype(int)\n"
      ],
      "metadata": {
        "id": "eHjGqklPmFmZ"
      },
      "execution_count": 14,
      "outputs": []
    },
    {
      "cell_type": "code",
      "source": [
        "print(data['label'].nunique())"
      ],
      "metadata": {
        "colab": {
          "base_uri": "https://localhost:8080/"
        },
        "id": "t1ZAt7txmMTq",
        "outputId": "ff2b7093-e224-46a5-907b-4219b3e3c03a"
      },
      "execution_count": 15,
      "outputs": [
        {
          "output_type": "stream",
          "name": "stdout",
          "text": [
            "2\n"
          ]
        }
      ]
    },
    {
      "cell_type": "code",
      "source": [
        "print(data['label'].unique())"
      ],
      "metadata": {
        "colab": {
          "base_uri": "https://localhost:8080/"
        },
        "id": "yw57eoy1mOrY",
        "outputId": "3abca9a6-f2c4-4de7-d0d2-6aefd03b4d14"
      },
      "execution_count": 16,
      "outputs": [
        {
          "output_type": "stream",
          "name": "stdout",
          "text": [
            "[0 1]\n"
          ]
        }
      ]
    },
    {
      "cell_type": "code",
      "source": [
        "total_benign_traffic_rows = data[data['label'] == 0].shape[0]\n",
        "\n",
        "print(\"Total rows with label 'BenignTaffic' :\", total_benign_traffic_rows)\n"
      ],
      "metadata": {
        "colab": {
          "base_uri": "https://localhost:8080/"
        },
        "id": "PDCqIDeRaIPY",
        "outputId": "d22d1e69-1355-465f-8fe4-28e859b105f1"
      },
      "execution_count": 17,
      "outputs": [
        {
          "output_type": "stream",
          "name": "stdout",
          "text": [
            "Total rows with label 'BenignTaffic' : 11754\n"
          ]
        }
      ]
    },
    {
      "cell_type": "markdown",
      "source": [
        "# Data Analysis"
      ],
      "metadata": {
        "id": "dthhrRE_IIpi"
      }
    },
    {
      "cell_type": "markdown",
      "source": [
        "# Model Training"
      ],
      "metadata": {
        "id": "IuxrcP-rSVTe"
      }
    },
    {
      "cell_type": "code",
      "source": [
        "from sklearn.model_selection import train_test_split\n",
        "X = data.drop(\"label\", axis=1)\n",
        "Y = data[\"label\"]\n"
      ],
      "metadata": {
        "id": "A0BT-0s1SU9p"
      },
      "execution_count": 30,
      "outputs": []
    },
    {
      "cell_type": "code",
      "source": [
        "# Check class imbalance\n",
        "print(Y.value_counts())"
      ],
      "metadata": {
        "colab": {
          "base_uri": "https://localhost:8080/"
        },
        "id": "vEI45AJiOp_8",
        "outputId": "81d33d01-a37f-4b80-d76a-fed309e5b386"
      },
      "execution_count": 19,
      "outputs": [
        {
          "output_type": "stream",
          "name": "stdout",
          "text": [
            "1    493563\n",
            "0     11754\n",
            "Name: label, dtype: int64\n"
          ]
        }
      ]
    },
    {
      "cell_type": "code",
      "source": [
        "Y.value_counts().plot.pie(autopct=\"%.2f\")"
      ],
      "metadata": {
        "colab": {
          "base_uri": "https://localhost:8080/",
          "height": 424
        },
        "id": "XHQVos-vUSeS",
        "outputId": "82eb47da-6ec7-4f6c-f942-58bb320bb1b5"
      },
      "execution_count": 20,
      "outputs": [
        {
          "output_type": "execute_result",
          "data": {
            "text/plain": [
              "<Axes: ylabel='label'>"
            ]
          },
          "metadata": {},
          "execution_count": 20
        },
        {
          "output_type": "display_data",
          "data": {
            "text/plain": [
              "<Figure size 640x480 with 1 Axes>"
            ],
            "image/png": "[encoded data removed]"
          },
          "metadata": {}
        }
      ]
    },
    {
      "cell_type": "code",
      "source": [
        "from imblearn.over_sampling import RandomOverSampler\n",
        "ros = RandomOverSampler( sampling_strategy='auto', random_state=None, shrinkage=None)\n",
        "X_ros , Y_ros = ros.fit_resample(X,Y)\n"
      ],
      "metadata": {
        "id": "ik30iANReqiX"
      },
      "execution_count": 31,
      "outputs": []
    },
    {
      "cell_type": "code",
      "source": [
        "print(Y_ros.value_counts())"
      ],
      "metadata": {
        "colab": {
          "base_uri": "https://localhost:8080/"
        },
        "id": "iY4Rt-Y0fwjL",
        "outputId": "830e7865-096b-4d3a-c6e6-523158f6b862"
      },
      "execution_count": 32,
      "outputs": [
        {
          "output_type": "stream",
          "name": "stdout",
          "text": [
            "0    493563\n",
            "1    493563\n",
            "Name: label, dtype: int64\n"
          ]
        }
      ]
    },
    {
      "cell_type": "code",
      "source": [
        "Y_ros.value_counts().plot.pie(autopct=\"%.2f\")"
      ],
      "metadata": {
        "colab": {
          "base_uri": "https://localhost:8080/",
          "height": 424
        },
        "id": "Hn71CZj0f7SA",
        "outputId": "69f5495a-4119-46b8-902e-134a15a1427a"
      },
      "execution_count": 23,
      "outputs": [
        {
          "output_type": "execute_result",
          "data": {
            "text/plain": [
              "<Axes: ylabel='label'>"
            ]
          },
          "metadata": {},
          "execution_count": 23
        },
        {
          "output_type": "display_data",
          "data": {
            "text/plain": [
              "<Figure size 640x480 with 1 Axes>"
            ],
            "image/png": "[encoded data removed]"
          },
          "metadata": {}
        }
      ]
    },
    {
      "cell_type": "code",
      "source": [
        "from sklearn.preprocessing import MinMaxScaler, StandardScaler\n",
        "scalar = StandardScaler()\n",
        "X_scaled = scalar.fit_transform(X_ros)\n"
      ],
      "metadata": {
        "id": "3PXCcmGZBonH"
      },
      "execution_count": 33,
      "outputs": []
    },
    {
      "cell_type": "code",
      "source": [
        "from sklearn.model_selection import train_test_split\n",
        "\n",
        "X_train, X_test, Y_train, Y_test = train_test_split(X_ros,Y_ros,test_size=0.2,random_state=42)\n",
        "\n",
        "print(X_train.shape)\n",
        "print(X_test.shape)\n",
        "print(Y_train.shape)\n",
        "print(Y_test.shape)"
      ],
      "metadata": {
        "colab": {
          "base_uri": "https://localhost:8080/"
        },
        "id": "h55emN0KUFOh",
        "outputId": "530e6120-322b-49d0-b089-de270cf2dd80"
      },
      "execution_count": 34,
      "outputs": [
        {
          "output_type": "stream",
          "name": "stdout",
          "text": [
            "(789700, 46)\n",
            "(197426, 46)\n",
            "(789700,)\n",
            "(197426,)\n"
          ]
        }
      ]
    },
    {
      "cell_type": "code",
      "source": [
        "from sklearn.linear_model import LogisticRegression\n",
        "\n",
        "logistic_regression_model = LogisticRegression(n_jobs=-1)\n",
        "logistic_regression_model.fit(X_train, Y_train)\n",
        "Y_pred = logistic_regression_model.predict(X_test)\n"
      ],
      "metadata": {
        "id": "THKoUcuEVUGN"
      },
      "execution_count": 35,
      "outputs": []
    },
    {
      "cell_type": "markdown",
      "source": [
        "# Model Evaluation"
      ],
      "metadata": {
        "id": "kzX_dnbmVmGd"
      }
    },
    {
      "cell_type": "code",
      "source": [
        "from sklearn.metrics import accuracy_score, recall_score, precision_score, f1_score\n",
        "\n",
        "# Evaluate the model\n",
        "print(\"Accuracy:\", accuracy_score(Y_test, Y_pred))\n",
        "print(\"Recall:\", recall_score(Y_test, Y_pred, average='macro'))\n",
        "print(\"Precision:\", precision_score(Y_test, Y_pred, average='macro'))\n",
        "print(\"F1 Score:\", f1_score(Y_test, Y_pred, average='macro'))"
      ],
      "metadata": {
        "colab": {
          "base_uri": "https://localhost:8080/"
        },
        "id": "IWriZJiCVlDv",
        "outputId": "e73a4aff-b06f-4ec9-f303-16bd70f51c34"
      },
      "execution_count": 36,
      "outputs": [
        {
          "output_type": "stream",
          "name": "stdout",
          "text": [
            "Accuracy: 0.8876085216739437\n",
            "Recall: 0.8876637855656319\n",
            "Precision: 0.8925629377087388\n",
            "F1 Score: 0.8872629183713856\n"
          ]
        }
      ]
    },
    {
      "cell_type": "code",
      "source": [
        "from sklearn.metrics import classification_report\n",
        "\n",
        "print(classification_report(Y_test,Y_pred))"
      ],
      "metadata": {
        "colab": {
          "base_uri": "https://localhost:8080/"
        },
        "id": "D8tFaHxXkqBh",
        "outputId": "a1e21ba1-2e4c-4f4b-efe4-15389e04b45c"
      },
      "execution_count": 28,
      "outputs": [
        {
          "output_type": "stream",
          "name": "stdout",
          "text": [
            "              precision    recall  f1-score   support\n",
            "\n",
            "           0       0.94      0.83      0.88     98810\n",
            "           1       0.85      0.94      0.89     98616\n",
            "\n",
            "    accuracy                           0.89    197426\n",
            "   macro avg       0.89      0.89      0.89    197426\n",
            "weighted avg       0.89      0.89      0.89    197426\n",
            "\n"
          ]
        }
      ]
    },
    {
      "cell_type": "markdown",
      "source": [
        "# Confusion Matrix"
      ],
      "metadata": {
        "id": "ORprGHYqWVFj"
      }
    },
    {
      "cell_type": "code",
      "source": [
        "from sklearn.metrics import confusion_matrix, ConfusionMatrixDisplay\n",
        "\n",
        "cm = confusion_matrix(Y_test, Y_pred, labels=logistic_regression_model.classes_)\n",
        "disp = ConfusionMatrixDisplay(confusion_matrix=cm, display_labels=logistic_regression_model.classes_)\n",
        "disp.plot()\n",
        "plt.show()\n"
      ],
      "metadata": {
        "colab": {
          "base_uri": "https://localhost:8080/",
          "height": 449
        },
        "id": "iVoPWqrnWY-a",
        "outputId": "3ddf4fd6-b4d9-41c8-a6a1-61d19c60e966"
      },
      "execution_count": 29,
      "outputs": [
        {
          "output_type": "display_data",
          "data": {
            "text/plain": [
              "<Figure size 640x480 with 2 Axes>"
            ],
            "image/png": "[encoded data removed]"
          },
          "metadata": {}
        }
      ]
    }
  ]
}